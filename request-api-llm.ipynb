{
 "cells": [
  {
   "cell_type": "code",
   "execution_count": null,
   "id": "573f99f2",
   "metadata": {},
   "outputs": [],
   "source": [
    "%pip install pyarrow"
   ]
  },
  {
   "cell_type": "code",
   "execution_count": 1,
   "id": "8bcc7e5d",
   "metadata": {},
   "outputs": [],
   "source": [
    "import requests\n",
    "import pandas as pd"
   ]
  },
  {
   "cell_type": "code",
   "execution_count": 2,
   "id": "f6422d2f",
   "metadata": {},
   "outputs": [
    {
     "name": "stdout",
     "output_type": "stream",
     "text": [
      "{'result': 'success', 'documentation': 'https://www.exchangerate-api.com/docs', 'terms_of_use': 'https://www.exchangerate-api.com/terms', 'time_last_update_unix': 1756944001, 'time_last_update_utc': 'Thu, 04 Sep 2025 00:00:01 +0000', 'time_next_update_unix': 1757030401, 'time_next_update_utc': 'Fri, 05 Sep 2025 00:00:01 +0000', 'base_code': 'USD', 'conversion_rates': {'USD': 1, 'AED': 3.6725, 'AFN': 68.8397, 'ALL': 83.7925, 'AMD': 382.3473, 'ANG': 1.79, 'AOA': 918.9807, 'ARS': 1360.17, 'AUD': 1.529, 'AWG': 1.79, 'AZN': 1.6996, 'BAM': 1.6778, 'BBD': 2.0, 'BDT': 121.7066, 'BGN': 1.6779, 'BHD': 0.376, 'BIF': 2976.6347, 'BMD': 1.0, 'BND': 1.2884, 'BOB': 6.9203, 'BRL': 5.4534, 'BSD': 1.0, 'BTN': 88.1043, 'BWP': 13.7059, 'BYN': 3.2664, 'BZD': 2.0, 'CAD': 1.3794, 'CDF': 2886.2969, 'CHF': 0.8041, 'CLP': 973.4898, 'CNY': 7.144, 'COP': 4004.8407, 'CRC': 505.3654, 'CUP': 24.0, 'CVE': 94.5895, 'CZK': 20.9685, 'DJF': 177.721, 'DKK': 6.4004, 'DOP': 63.0241, 'DZD': 130.0, 'EGP': 48.5776, 'ERN': 15.0, 'ETB': 141.94, 'EUR': 0.8578, 'FJD': 2.2842, 'FKP': 0.745, 'FOK': 6.4002, 'GBP': 0.7446, 'GEL': 2.6958, 'GGP': 0.745, 'GHS': 11.9786, 'GIP': 0.745, 'GMD': 72.9174, 'GNF': 8681.4711, 'GTQ': 7.666, 'GYD': 209.0719, 'HKD': 7.8016, 'HNL': 26.1939, 'HRK': 6.4634, 'HTG': 130.6987, 'HUF': 337.58, 'IDR': 16441.3088, 'ILS': 3.3645, 'IMP': 0.745, 'INR': 88.1044, 'IQD': 1309.6157, 'IRR': 42315.4753, 'ISK': 123.2851, 'JEP': 0.745, 'JMD': 159.9977, 'JOD': 0.709, 'JPY': 148.1995, 'KES': 129.1057, 'KGS': 87.2494, 'KHR': 4010.4076, 'KID': 1.5291, 'KMF': 422.0284, 'KRW': 1389.9309, 'KWD': 0.3059, 'KYD': 0.8333, 'KZT': 539.8403, 'LAK': 21708.7911, 'LBP': 89500.0, 'LKR': 301.8485, 'LRD': 201.1103, 'LSL': 17.6617, 'LYD': 5.409, 'MAD': 9.0691, 'MDL': 16.6505, 'MGA': 4443.5912, 'MKD': 52.8269, 'MMK': 2100.6889, 'MNT': 3576.1696, 'MOP': 8.0357, 'MRU': 40.0261, 'MUR': 46.1605, 'MVR': 15.4417, 'MWK': 1739.1887, 'MXN': 18.7062, 'MYR': 4.2282, 'MZN': 63.6627, 'NAD': 17.6617, 'NGN': 1525.9899, 'NIO': 36.7825, 'NOK': 10.0355, 'NPR': 140.967, 'NZD': 1.7021, 'OMR': 0.3845, 'PAB': 1.0, 'PEN': 3.5341, 'PGK': 4.1808, 'PHP': 57.3126, 'PKR': 283.6742, 'PLN': 3.6485, 'PYG': 7228.9684, 'QAR': 3.64, 'RON': 4.3551, 'RSD': 100.4778, 'RUB': 80.9129, 'RWF': 1448.4614, 'SAR': 3.75, 'SBD': 8.2057, 'SCR': 14.7997, 'SDG': 543.7659, 'SEK': 9.4304, 'SGD': 1.2884, 'SHP': 0.745, 'SLE': 23.2903, 'SLL': 23290.2526, 'SOS': 570.8861, 'SRD': 38.6265, 'SSP': 4539.7609, 'STN': 21.017, 'SYP': 12946.6814, 'SZL': 17.6617, 'THB': 32.301, 'TJS': 9.4664, 'TMT': 3.4976, 'TND': 2.8938, 'TOP': 2.3863, 'TRY': 41.1979, 'TTD': 6.7615, 'TVD': 1.5291, 'TWD': 30.6885, 'TZS': 2494.4008, 'UAH': 41.3844, 'UGX': 3531.7684, 'UYU': 40.0037, 'UZS': 12356.525, 'VES': 151.7627, 'VND': 26291.9414, 'VUV': 119.2579, 'WST': 2.7525, 'XAF': 562.7046, 'XCD': 2.7, 'XCG': 1.79, 'XDR': 0.7319, 'XOF': 562.7046, 'XPF': 102.3675, 'YER': 239.858, 'ZAR': 17.6604, 'ZMW': 23.7501, 'ZWL': 26.7631}}\n"
     ]
    }
   ],
   "source": [
    "API_KEY = 'c1c0056fd76ba53c273ab417'\n",
    "BASE_URL = f'https://v6.exchangerate-api.com/v6/{API_KEY}'\n",
    "DATA = '2025/08/25' # Substitua pela data que você quiser\n",
    "\n",
    "URL = f'{BASE_URL}/latest/USD'\n",
    "\n",
    "try:\n",
    "    response = requests.get(URL)\n",
    "    response.raise_for_status()  # Isso vai levantar um erro para códigos de status HTTP 4xx/5xx\n",
    "\n",
    "    data = response.json()\n",
    "    print(data)\n",
    "\n",
    "except requests.exceptions.HTTPError as err:\n",
    "    print(f\"Ocorreu um erro HTTP: {err}\")\n",
    "except Exception as err:\n",
    "    print(f\"Ocorreu um erro: {err}\")"
   ]
  },
  {
   "cell_type": "code",
   "execution_count": 3,
   "id": "aa7574cc",
   "metadata": {},
   "outputs": [],
   "source": [
    "# Salvar o retorno como arquivo JSON na pasta bronze, particionando por timestamp\n",
    "import os\n",
    "from datetime import datetime\n",
    "\n",
    "timestamp = datetime.now().strftime(\"%Y%m%d\")\n",
    "output_dir = f\"bronze/{timestamp}\"\n",
    "os.makedirs(output_dir, exist_ok=True)\n",
    "\n",
    "with open(f\"{output_dir}/retorno_api.json\", \"w\", encoding=\"utf-8\") as f:\n",
    "    import json\n",
    "    json.dump(data, f, ensure_ascii=False, indent=4)"
   ]
  },
  {
   "cell_type": "code",
   "execution_count": 4,
   "id": "69e8e638",
   "metadata": {},
   "outputs": [],
   "source": [
    "# Ler o JSON salvo e salvar como Parquet na pasta silver\n",
    "import pandas as pd\n",
    "output_dir = f\"bronze/{timestamp}\"\n",
    "\n",
    "with open(f\"{output_dir}/retorno_api.json\", \"r\", encoding=\"utf-8\") as f:\n",
    "    json_data = json.load(f)\n",
    "\n",
    "# Normaliza o JSON para DataFrame (ajuste conforme necessário)\n",
    "df = pd.json_normalize(json_data['conversion_rates'])\n",
    "\n",
    "silver_dir = f\"silver/{timestamp}\"\n",
    "os.makedirs(silver_dir, exist_ok=True)\n",
    "df.to_parquet(f\"{silver_dir}/retorno_api.parquet\", index=False)"
   ]
  },
  {
   "cell_type": "code",
   "execution_count": 12,
   "id": "afbdef17",
   "metadata": {},
   "outputs": [
    {
     "name": "stdout",
     "output_type": "stream",
     "text": [
      "       ARS     BOB     BRL       CLP        COP     PEN      UYU       VES  \\\n",
      "0  1360.17  6.9203  5.4534  973.4898  4004.8407  3.5341  40.0037  151.7627   \n",
      "\n",
      "        GYD        PYG      SRD  \n",
      "0  209.0719  7228.9684  38.6265  \n"
     ]
    }
   ],
   "source": [
    "#print(f\"O valor do dólar sobre o euro é: {df['EUR'].values[0]}\")\n",
    "\n",
    "# Filtrar e mostrar apenas as moedas da América do Sul\n",
    "south_american_currencies = ['ARS', 'BOB', 'BRL', 'CLP', 'COP', 'PEN', 'UYU', 'VES', 'GYD', 'PYG', 'SRD']\n",
    "df_south_america = df[south_american_currencies]\n",
    "print(df_south_america)"
   ]
  },
  {
   "cell_type": "code",
   "execution_count": null,
   "id": "9e8e9586",
   "metadata": {},
   "outputs": [],
   "source": [
    "\n",
    "# Instalar dependências da Hugging Face\n",
    "!pip install transformers accelerate\n",
    "\n",
    "from transformers import pipeline\n",
    "\n",
    "# Carregar o modelo gratuito flan-t5-large\n",
    "llm = pipeline(\"text2text-generation\", model=\"google/flan-t5-large\")\n",
    "\n",
    "def gerar_insights(df, n_linhas=5):\n",
    "    \"\"\"\n",
    "    Gera insights automáticos sobre o dataset usando LLM gratuita.\n",
    "    :param df: DataFrame a ser analisado\n",
    "    :param n_linhas: Quantas linhas do dataset enviar para a LLM\n",
    "    \"\"\"\n",
    "    sample = df.head(n_linhas).to_string()\n",
    "    prompt = f\"\"\"\n",
    "    Você é um analista de dados. Abaixo estão algumas linhas de um dataset sobre moedas da América do Sul:\n",
    "    {sample}\n",
    "\n",
    "    Gere insights relevantes sobre padrões, tendências, oportunidades ou possíveis análises adicionais.\n",
    "    \"\"\"\n",
    "    resposta = llm(prompt, max_length=300, do_sample=True)[0][\"generated_text\"]\n",
    "    return resposta\n",
    "\n",
    "# Exemplo de uso:\n",
    "insights = gerar_insights(df_south_america)\n",
    "print(\"=== Insights gerados pela LLM ===\")\n",
    "print(insights)\n"
   ]
  }
 ],
 "metadata": {
  "kernelspec": {
   "display_name": "Python 3",
   "language": "python",
   "name": "python3"
  },
  "language_info": {
   "codemirror_mode": {
    "name": "ipython",
    "version": 3
   },
   "file_extension": ".py",
   "mimetype": "text/x-python",
   "name": "python",
   "nbconvert_exporter": "python",
   "pygments_lexer": "ipython3",
   "version": "3.10.12"
  }
 },
 "nbformat": 4,
 "nbformat_minor": 5
}
