{
 "cells": [
  {
   "cell_type": "code",
   "execution_count": null,
   "id": "573f99f2",
   "metadata": {},
   "outputs": [],
   "source": [
    "#%pip install pyarrow\n",
    "#%pip install -q google-generativeai\n",
    "#%pip install python-dotenv\n",
    "#%pip install plotly\n",
    "%pip install nbformat --upgrade"
   ]
  },
  {
   "cell_type": "code",
   "execution_count": 1,
   "id": "8bcc7e5d",
   "metadata": {},
   "outputs": [],
   "source": [
    "import requests\n",
    "import pandas as pd\n",
    "from dotenv import load_dotenv\n",
    "import os\n",
    "\n",
    "load_dotenv() \n",
    "\n",
    "API_KEY = os.getenv(\"API_KEY\")\n",
    "GOOGLE_API_KEY = os.getenv(\"GOOGLE_API_KEY\")\n"
   ]
  },
  {
   "cell_type": "code",
   "execution_count": 3,
   "id": "f6422d2f",
   "metadata": {},
   "outputs": [
    {
     "name": "stdout",
     "output_type": "stream",
     "text": [
      "{'result': 'success', 'documentation': 'https://www.exchangerate-api.com/docs', 'terms_of_use': 'https://www.exchangerate-api.com/terms', 'time_last_update_unix': 1757462401, 'time_last_update_utc': 'Wed, 10 Sep 2025 00:00:01 +0000', 'time_next_update_unix': 1757548801, 'time_next_update_utc': 'Thu, 11 Sep 2025 00:00:01 +0000', 'base_code': 'USD', 'conversion_rates': {'USD': 1, 'AED': 3.6725, 'AFN': 68.3283, 'ALL': 82.7218, 'AMD': 382.6216, 'ANG': 1.79, 'AOA': 920.8606, 'ARS': 1418.67, 'AUD': 1.5176, 'AWG': 1.79, 'AZN': 1.7018, 'BAM': 1.6681, 'BBD': 2.0, 'BDT': 121.7538, 'BGN': 1.6678, 'BHD': 0.376, 'BIF': 2970.5923, 'BMD': 1.0, 'BND': 1.2822, 'BOB': 6.9374, 'BRL': 5.4212, 'BSD': 1.0, 'BTN': 88.2145, 'BWP': 13.7197, 'BYN': 3.234, 'BZD': 2.0, 'CAD': 1.3833, 'CDF': 2878.4332, 'CHF': 0.7964, 'CLP': 971.3739, 'CNY': 7.1241, 'COP': 3950.6662, 'CRC': 505.3626, 'CUP': 24.0, 'CVE': 94.0434, 'CZK': 20.7587, 'DJF': 177.721, 'DKK': 6.3674, 'DOP': 63.667, 'DZD': 129.7769, 'EGP': 48.0013, 'ERN': 15.0, 'ETB': 141.6466, 'EUR': 0.853, 'FJD': 2.2395, 'FKP': 0.7387, 'FOK': 6.3673, 'GBP': 0.7388, 'GEL': 2.6924, 'GGP': 0.7387, 'GHS': 12.2074, 'GIP': 0.7387, 'GMD': 72.5163, 'GNF': 8687.1638, 'GTQ': 7.6745, 'GYD': 209.1599, 'HKD': 7.7884, 'HNL': 26.2181, 'HRK': 6.4261, 'HTG': 130.8794, 'HUF': 335.1966, 'IDR': 16460.4362, 'ILS': 3.3447, 'IMP': 0.7387, 'INR': 88.2133, 'IQD': 1307.9512, 'IRR': 42423.4499, 'ISK': 122.1272, 'JEP': 0.7387, 'JMD': 160.2192, 'JOD': 0.709, 'JPY': 147.2252, 'KES': 129.1261, 'KGS': 87.446, 'KHR': 4009.7984, 'KID': 1.5172, 'KMF': 419.5922, 'KRW': 1387.6219, 'KWD': 0.3053, 'KYD': 0.8333, 'KZT': 536.6686, 'LAK': 21709.6601, 'LBP': 89500.0, 'LKR': 302.0352, 'LRD': 199.8836, 'LSL': 17.5258, 'LYD': 5.4103, 'MAD': 9.0101, 'MDL': 16.6424, 'MGA': 4454.5712, 'MKD': 52.6197, 'MMK': 2103.3996, 'MNT': 3567.4386, 'MOP': 8.022, 'MRU': 39.8339, 'MUR': 46.0678, 'MVR': 15.4387, 'MWK': 1742.489, 'MXN': 18.6234, 'MYR': 4.2063, 'MZN': 63.5948, 'NAD': 17.5258, 'NGN': 1506.3857, 'NIO': 36.8122, 'NOK': 9.9771, 'NPR': 141.1432, 'NZD': 1.6863, 'OMR': 0.3845, 'PAB': 1.0, 'PEN': 3.5073, 'PGK': 4.2156, 'PHP': 57.0235, 'PKR': 283.7733, 'PLN': 3.6254, 'PYG': 7159.5773, 'QAR': 3.64, 'RON': 4.3204, 'RSD': 99.8023, 'RUB': 83.5865, 'RWF': 1451.7616, 'SAR': 3.75, 'SBD': 8.2826, 'SCR': 14.6496, 'SDG': 449.0466, 'SEK': 9.3759, 'SGD': 1.2822, 'SHP': 0.7387, 'SLE': 23.2903, 'SLL': 23290.2526, 'SOS': 571.7498, 'SRD': 39.0245, 'SSP': 4550.8829, 'STN': 20.8957, 'SYP': 13107.7234, 'SZL': 17.5258, 'THB': 31.7141, 'TJS': 9.4645, 'TMT': 3.5, 'TND': 2.9033, 'TOP': 2.3606, 'TRY': 41.2689, 'TTD': 6.7717, 'TVD': 1.5172, 'TWD': 30.289, 'TZS': 2473.4492, 'UAH': 41.1554, 'UGX': 3482.1374, 'UYU': 40.0394, 'UZS': 12314.5092, 'VES': 156.3739, 'VND': 26252.5343, 'VUV': 118.6706, 'WST': 2.7465, 'XAF': 559.4562, 'XCD': 2.7, 'XCG': 1.79, 'XDR': 0.7281, 'XOF': 559.4562, 'XPF': 101.7765, 'YER': 240.0213, 'ZAR': 17.5264, 'ZMW': 24.1148, 'ZWL': 26.7103}}\n"
     ]
    }
   ],
   "source": [
    "\n",
    "BASE_URL = f'https://v6.exchangerate-api.com/v6/{API_KEY}'\n",
    "DATA = '2025/08/25' # Substitua pela data que você quiser\n",
    "\n",
    "URL = f'{BASE_URL}/latest/USD'\n",
    "\n",
    "try:\n",
    "    response = requests.get(URL)\n",
    "    response.raise_for_status()  # Isso vai levantar um erro para códigos de status HTTP 4xx/5xx\n",
    "\n",
    "    data = response.json()\n",
    "    print(data)\n",
    "\n",
    "except requests.exceptions.HTTPError as err:\n",
    "    print(f\"Ocorreu um erro HTTP: {err}\")\n",
    "except Exception as err:\n",
    "    print(f\"Ocorreu um erro: {err}\")"
   ]
  },
  {
   "cell_type": "code",
   "execution_count": 4,
   "id": "aa7574cc",
   "metadata": {},
   "outputs": [],
   "source": [
    "# Salvar o retorno como arquivo JSON na pasta bronze, particionando por timestamp\n",
    "import os\n",
    "from datetime import datetime\n",
    "\n",
    "timestamp = datetime.now().strftime(\"%Y%m%d\")\n",
    "output_dir = f\"bronze/{timestamp}\"\n",
    "os.makedirs(output_dir, exist_ok=True)\n",
    "\n",
    "with open(f\"{output_dir}/retorno_api_{timestamp}.json\", \"w\", encoding=\"utf-8\") as f:\n",
    "    import json\n",
    "    json.dump(data, f, ensure_ascii=False, indent=4)"
   ]
  },
  {
   "cell_type": "code",
   "execution_count": 5,
   "id": "69e8e638",
   "metadata": {},
   "outputs": [],
   "source": [
    "# Ler o JSON salvo e salvar como Parquet na pasta silver\n",
    "import pandas as pd\n",
    "output_dir = f\"bronze/{timestamp}\"\n",
    "\n",
    "with open(f\"{output_dir}/retorno_api_{timestamp}.json\", \"r\", encoding=\"utf-8\") as f:\n",
    "    json_data = json.load(f)\n",
    "\n",
    "# Normaliza o JSON para DataFrame\n",
    "df = pd.json_normalize(json_data['conversion_rates'])\n",
    "\n",
    "silver_dir = f\"silver/{timestamp}\"\n",
    "os.makedirs(silver_dir, exist_ok=True)\n",
    "df.to_parquet(f\"{silver_dir}/retorno_api_{timestamp}.parquet\", index=False)"
   ]
  },
  {
   "cell_type": "code",
   "execution_count": 9,
   "id": "afbdef17",
   "metadata": {},
   "outputs": [],
   "source": [
    "#print(f\"O valor do dólar sobre o euro é: {df['EUR'].values[0]}\")\n",
    "\n",
    "# Carregar o DataFrame diretamente do arquivo Parquet salvo na pasta silver\n",
    "silver_dir = f\"silver/{timestamp}\"\n",
    "df = pd.read_parquet(f\"{silver_dir}/retorno_api_{timestamp}.parquet\")\n",
    "\n",
    "# Filtrar e mostrar apenas as moedas da América do Sul\n",
    "south_american_currencies = ['USD', 'ARS', 'BOB', 'BRL', 'CLP', 'COP', 'PEN', 'UYU', 'VES', 'GYD', 'PYG', 'SRD']\n",
    "df_south_america = df[south_american_currencies]\n",
    "# ...restante do código...\n",
    "\n",
    "#salvando o DataFrame filtrado como parquet na pasta gold\n",
    "\n",
    "gold_dir = f\"gold/{timestamp}\"\n",
    "os.makedirs(gold_dir, exist_ok=True)\n",
    "df_south_america.to_parquet(f\"{gold_dir}/south_american_currencies.parquet\", index=False)   "
   ]
  },
  {
   "cell_type": "code",
   "execution_count": 2,
   "id": "7a0eb188",
   "metadata": {},
   "outputs": [
    {
     "data": {
      "text/html": [
       "<div>\n",
       "<style scoped>\n",
       "    .dataframe tbody tr th:only-of-type {\n",
       "        vertical-align: middle;\n",
       "    }\n",
       "\n",
       "    .dataframe tbody tr th {\n",
       "        vertical-align: top;\n",
       "    }\n",
       "\n",
       "    .dataframe thead th {\n",
       "        text-align: right;\n",
       "    }\n",
       "</style>\n",
       "<table border=\"1\" class=\"dataframe\">\n",
       "  <thead>\n",
       "    <tr style=\"text-align: right;\">\n",
       "      <th></th>\n",
       "      <th>ARS</th>\n",
       "      <th>BOB</th>\n",
       "      <th>BRL</th>\n",
       "      <th>CLP</th>\n",
       "      <th>COP</th>\n",
       "      <th>PEN</th>\n",
       "      <th>UYU</th>\n",
       "      <th>VES</th>\n",
       "      <th>GYD</th>\n",
       "      <th>PYG</th>\n",
       "      <th>SRD</th>\n",
       "      <th>USD</th>\n",
       "    </tr>\n",
       "    <tr>\n",
       "      <th>timestamp</th>\n",
       "      <th></th>\n",
       "      <th></th>\n",
       "      <th></th>\n",
       "      <th></th>\n",
       "      <th></th>\n",
       "      <th></th>\n",
       "      <th></th>\n",
       "      <th></th>\n",
       "      <th></th>\n",
       "      <th></th>\n",
       "      <th></th>\n",
       "      <th></th>\n",
       "    </tr>\n",
       "  </thead>\n",
       "  <tbody>\n",
       "    <tr>\n",
       "      <th>20250904</th>\n",
       "      <td>1360.17</td>\n",
       "      <td>6.9203</td>\n",
       "      <td>5.4534</td>\n",
       "      <td>973.4898</td>\n",
       "      <td>4004.8407</td>\n",
       "      <td>3.5341</td>\n",
       "      <td>40.0037</td>\n",
       "      <td>151.7627</td>\n",
       "      <td>209.0719</td>\n",
       "      <td>7228.9684</td>\n",
       "      <td>38.6265</td>\n",
       "      <td>1</td>\n",
       "    </tr>\n",
       "    <tr>\n",
       "      <th>20250909</th>\n",
       "      <td>1422.17</td>\n",
       "      <td>6.9105</td>\n",
       "      <td>5.4139</td>\n",
       "      <td>965.7960</td>\n",
       "      <td>3964.2089</td>\n",
       "      <td>3.5160</td>\n",
       "      <td>40.0851</td>\n",
       "      <td>154.9825</td>\n",
       "      <td>209.1806</td>\n",
       "      <td>7218.2281</td>\n",
       "      <td>38.9228</td>\n",
       "      <td>1</td>\n",
       "    </tr>\n",
       "    <tr>\n",
       "      <th>20250910</th>\n",
       "      <td>1418.67</td>\n",
       "      <td>6.9374</td>\n",
       "      <td>5.4212</td>\n",
       "      <td>971.3739</td>\n",
       "      <td>3950.6662</td>\n",
       "      <td>3.5073</td>\n",
       "      <td>40.0394</td>\n",
       "      <td>156.3739</td>\n",
       "      <td>209.1599</td>\n",
       "      <td>7159.5773</td>\n",
       "      <td>39.0245</td>\n",
       "      <td>1</td>\n",
       "    </tr>\n",
       "  </tbody>\n",
       "</table>\n",
       "</div>"
      ],
      "text/plain": [
       "               ARS     BOB     BRL       CLP        COP     PEN      UYU  \\\n",
       "timestamp                                                                  \n",
       "20250904   1360.17  6.9203  5.4534  973.4898  4004.8407  3.5341  40.0037   \n",
       "20250909   1422.17  6.9105  5.4139  965.7960  3964.2089  3.5160  40.0851   \n",
       "20250910   1418.67  6.9374  5.4212  971.3739  3950.6662  3.5073  40.0394   \n",
       "\n",
       "                VES       GYD        PYG      SRD  USD  \n",
       "timestamp                                               \n",
       "20250904   151.7627  209.0719  7228.9684  38.6265    1  \n",
       "20250909   154.9825  209.1806  7218.2281  38.9228    1  \n",
       "20250910   156.3739  209.1599  7159.5773  39.0245    1  "
      ]
     },
     "execution_count": 2,
     "metadata": {},
     "output_type": "execute_result"
    }
   ],
   "source": [
    "#Consollidano os resultado para um dataframe final \n",
    "\n",
    "gold_base = \"gold\"\n",
    "consolidated = []\n",
    "\n",
    "for folder in sorted(os.listdir(gold_base)):\n",
    "    folder_path = os.path.join(gold_base, folder)\n",
    "    if os.path.isdir(folder_path):\n",
    "        for file in os.listdir(folder_path):\n",
    "            if file.endswith(\".parquet\"):\n",
    "                df = pd.read_parquet(os.path.join(folder_path, file))\n",
    "                # Se não existe coluna USD, adiciona com valor 1\n",
    "                if \"USD\" not in df.columns:\n",
    "                    df[\"USD\"] = 1\n",
    "                # Adiciona coluna com o nome da pasta (timestamp)\n",
    "                df[\"timestamp\"] = folder\n",
    "                consolidated.append(df)\n",
    "\n",
    "# Junta todos os DataFrames\n",
    "df_consolidated = pd.concat(consolidated, ignore_index=True)\n",
    "\n",
    "# Reorganiza para ter timestamp como linha e moedas como colunas\n",
    "df_final = df_consolidated.set_index(\"timestamp\")\n",
    "\n",
    "# Exibe o DataFrame consolidado\n",
    "df_final"
   ]
  },
  {
   "cell_type": "code",
   "execution_count": 4,
   "id": "00a830ea",
   "metadata": {},
   "outputs": [
    {
     "data": {
      "application/vnd.plotly.v1+json": {
       "config": {
        "plotlyServerURL": "https://plot.ly"
       },
       "data": [
        {
         "mode": "lines+markers",
         "name": "ARS",
         "type": "scatter",
         "visible": false,
         "x": [
          "20250904",
          "20250909",
          "20250910"
         ],
         "y": {
          "bdata": "SOF6FK5AlUBI4XoUrjiWQEjhehSuKpZA",
          "dtype": "f8"
         }
        },
        {
         "mode": "lines+markers",
         "name": "BOB",
         "type": "scatter",
         "visible": false,
         "x": [
          "20250904",
          "20250909",
          "20250910"
         ],
         "y": {
          "bdata": "AwmKH2OuG0AxCKwcWqQbQOQUHcnlvxtA",
          "dtype": "f8"
         }
        },
        {
         "mode": "lines+markers",
         "name": "BRL",
         "type": "scatter",
         "visible": false,
         "x": [
          "20250904",
          "20250909",
          "20250910"
         ],
         "y": {
          "bdata": "jgbwFkjQFUDyQc9m1acVQAFNhA1PrxVA",
          "dtype": "f8"
         }
        },
        {
         "mode": "lines+markers",
         "name": "CLP",
         "type": "scatter",
         "visible": false,
         "x": [
          "20250904",
          "20250909",
          "20250910"
         ],
         "y": {
          "bdata": "pSxDHOtrjkDufD81Xi6OQMx/SL/9Wo5A",
          "dtype": "f8"
         }
        },
        {
         "mode": "lines+markers",
         "name": "COP",
         "type": "scatter",
         "visible": false,
         "x": [
          "20250904",
          "20250909",
          "20250910"
         ],
         "y": {
          "bdata": "f/s6cK5Jr0BF2PD0aviuQDGZKhhV3a5A",
          "dtype": "f8"
         }
        },
        {
         "mode": "lines+markers",
         "name": "PEN",
         "type": "scatter",
         "visible": false,
         "x": [
          "20250904",
          "20250909",
          "20250910"
         ],
         "y": {
          "bdata": "S1mGONZFDEBU46WbxCAMQB4Wak3zDgxA",
          "dtype": "f8"
         }
        },
        {
         "mode": "lines+markers",
         "name": "UYU",
         "type": "scatter",
         "visible": false,
         "x": [
          "20250904",
          "20250909",
          "20250910"
         ],
         "y": {
          "bdata": "Y3/ZPXkAREDecYqO5ApEQDC7Jw8LBURA",
          "dtype": "f8"
         }
        },
        {
         "mode": "lines+markers",
         "name": "VES",
         "type": "scatter",
         "visible": false,
         "x": [
          "20250904",
          "20250909",
          "20250910"
         ],
         "y": {
          "bdata": "GJXUCWj4YkA9CtejcF9jQC7/If32i2NA",
          "dtype": "f8"
         }
        },
        {
         "mode": "lines+markers",
         "name": "GYD",
         "type": "scatter",
         "visible": false,
         "x": [
          "20250904",
          "20250909",
          "20250910"
         ],
         "y": {
          "bdata": "o5I6AU0iakALtaZ5xyVqQCzUmuYdJWpA",
          "dtype": "f8"
         }
        },
        {
         "mode": "lines+markers",
         "name": "PYG",
         "type": "scatter",
         "visible": false,
         "x": [
          "20250904",
          "20250909",
          "20250910"
         ],
         "y": {
          "bdata": "cvkP6fc8vEA4+MJkOjK8QPvL7smT97tA",
          "dtype": "f8"
         }
        },
        {
         "mode": "lines+markers",
         "name": "SRD",
         "type": "scatter",
         "visible": false,
         "x": [
          "20250904",
          "20250909",
          "20250910"
         ],
         "y": {
          "bdata": "1XjpJjFQQ0DZX3ZPHnZDQEJg5dAig0NA",
          "dtype": "f8"
         }
        }
       ],
       "layout": {
        "height": 600,
        "legend": {
         "title": {
          "text": "Moeda"
         }
        },
        "template": {
         "data": {
          "bar": [
           {
            "error_x": {
             "color": "#2a3f5f"
            },
            "error_y": {
             "color": "#2a3f5f"
            },
            "marker": {
             "line": {
              "color": "#E5ECF6",
              "width": 0.5
             },
             "pattern": {
              "fillmode": "overlay",
              "size": 10,
              "solidity": 0.2
             }
            },
            "type": "bar"
           }
          ],
          "barpolar": [
           {
            "marker": {
             "line": {
              "color": "#E5ECF6",
              "width": 0.5
             },
             "pattern": {
              "fillmode": "overlay",
              "size": 10,
              "solidity": 0.2
             }
            },
            "type": "barpolar"
           }
          ],
          "carpet": [
           {
            "aaxis": {
             "endlinecolor": "#2a3f5f",
             "gridcolor": "white",
             "linecolor": "white",
             "minorgridcolor": "white",
             "startlinecolor": "#2a3f5f"
            },
            "baxis": {
             "endlinecolor": "#2a3f5f",
             "gridcolor": "white",
             "linecolor": "white",
             "minorgridcolor": "white",
             "startlinecolor": "#2a3f5f"
            },
            "type": "carpet"
           }
          ],
          "choropleth": [
           {
            "colorbar": {
             "outlinewidth": 0,
             "ticks": ""
            },
            "type": "choropleth"
           }
          ],
          "contour": [
           {
            "colorbar": {
             "outlinewidth": 0,
             "ticks": ""
            },
            "colorscale": [
             [
              0,
              "#0d0887"
             ],
             [
              0.1111111111111111,
              "#46039f"
             ],
             [
              0.2222222222222222,
              "#7201a8"
             ],
             [
              0.3333333333333333,
              "#9c179e"
             ],
             [
              0.4444444444444444,
              "#bd3786"
             ],
             [
              0.5555555555555556,
              "#d8576b"
             ],
             [
              0.6666666666666666,
              "#ed7953"
             ],
             [
              0.7777777777777778,
              "#fb9f3a"
             ],
             [
              0.8888888888888888,
              "#fdca26"
             ],
             [
              1,
              "#f0f921"
             ]
            ],
            "type": "contour"
           }
          ],
          "contourcarpet": [
           {
            "colorbar": {
             "outlinewidth": 0,
             "ticks": ""
            },
            "type": "contourcarpet"
           }
          ],
          "heatmap": [
           {
            "colorbar": {
             "outlinewidth": 0,
             "ticks": ""
            },
            "colorscale": [
             [
              0,
              "#0d0887"
             ],
             [
              0.1111111111111111,
              "#46039f"
             ],
             [
              0.2222222222222222,
              "#7201a8"
             ],
             [
              0.3333333333333333,
              "#9c179e"
             ],
             [
              0.4444444444444444,
              "#bd3786"
             ],
             [
              0.5555555555555556,
              "#d8576b"
             ],
             [
              0.6666666666666666,
              "#ed7953"
             ],
             [
              0.7777777777777778,
              "#fb9f3a"
             ],
             [
              0.8888888888888888,
              "#fdca26"
             ],
             [
              1,
              "#f0f921"
             ]
            ],
            "type": "heatmap"
           }
          ],
          "histogram": [
           {
            "marker": {
             "pattern": {
              "fillmode": "overlay",
              "size": 10,
              "solidity": 0.2
             }
            },
            "type": "histogram"
           }
          ],
          "histogram2d": [
           {
            "colorbar": {
             "outlinewidth": 0,
             "ticks": ""
            },
            "colorscale": [
             [
              0,
              "#0d0887"
             ],
             [
              0.1111111111111111,
              "#46039f"
             ],
             [
              0.2222222222222222,
              "#7201a8"
             ],
             [
              0.3333333333333333,
              "#9c179e"
             ],
             [
              0.4444444444444444,
              "#bd3786"
             ],
             [
              0.5555555555555556,
              "#d8576b"
             ],
             [
              0.6666666666666666,
              "#ed7953"
             ],
             [
              0.7777777777777778,
              "#fb9f3a"
             ],
             [
              0.8888888888888888,
              "#fdca26"
             ],
             [
              1,
              "#f0f921"
             ]
            ],
            "type": "histogram2d"
           }
          ],
          "histogram2dcontour": [
           {
            "colorbar": {
             "outlinewidth": 0,
             "ticks": ""
            },
            "colorscale": [
             [
              0,
              "#0d0887"
             ],
             [
              0.1111111111111111,
              "#46039f"
             ],
             [
              0.2222222222222222,
              "#7201a8"
             ],
             [
              0.3333333333333333,
              "#9c179e"
             ],
             [
              0.4444444444444444,
              "#bd3786"
             ],
             [
              0.5555555555555556,
              "#d8576b"
             ],
             [
              0.6666666666666666,
              "#ed7953"
             ],
             [
              0.7777777777777778,
              "#fb9f3a"
             ],
             [
              0.8888888888888888,
              "#fdca26"
             ],
             [
              1,
              "#f0f921"
             ]
            ],
            "type": "histogram2dcontour"
           }
          ],
          "mesh3d": [
           {
            "colorbar": {
             "outlinewidth": 0,
             "ticks": ""
            },
            "type": "mesh3d"
           }
          ],
          "parcoords": [
           {
            "line": {
             "colorbar": {
              "outlinewidth": 0,
              "ticks": ""
             }
            },
            "type": "parcoords"
           }
          ],
          "pie": [
           {
            "automargin": true,
            "type": "pie"
           }
          ],
          "scatter": [
           {
            "fillpattern": {
             "fillmode": "overlay",
             "size": 10,
             "solidity": 0.2
            },
            "type": "scatter"
           }
          ],
          "scatter3d": [
           {
            "line": {
             "colorbar": {
              "outlinewidth": 0,
              "ticks": ""
             }
            },
            "marker": {
             "colorbar": {
              "outlinewidth": 0,
              "ticks": ""
             }
            },
            "type": "scatter3d"
           }
          ],
          "scattercarpet": [
           {
            "marker": {
             "colorbar": {
              "outlinewidth": 0,
              "ticks": ""
             }
            },
            "type": "scattercarpet"
           }
          ],
          "scattergeo": [
           {
            "marker": {
             "colorbar": {
              "outlinewidth": 0,
              "ticks": ""
             }
            },
            "type": "scattergeo"
           }
          ],
          "scattergl": [
           {
            "marker": {
             "colorbar": {
              "outlinewidth": 0,
              "ticks": ""
             }
            },
            "type": "scattergl"
           }
          ],
          "scattermap": [
           {
            "marker": {
             "colorbar": {
              "outlinewidth": 0,
              "ticks": ""
             }
            },
            "type": "scattermap"
           }
          ],
          "scattermapbox": [
           {
            "marker": {
             "colorbar": {
              "outlinewidth": 0,
              "ticks": ""
             }
            },
            "type": "scattermapbox"
           }
          ],
          "scatterpolar": [
           {
            "marker": {
             "colorbar": {
              "outlinewidth": 0,
              "ticks": ""
             }
            },
            "type": "scatterpolar"
           }
          ],
          "scatterpolargl": [
           {
            "marker": {
             "colorbar": {
              "outlinewidth": 0,
              "ticks": ""
             }
            },
            "type": "scatterpolargl"
           }
          ],
          "scatterternary": [
           {
            "marker": {
             "colorbar": {
              "outlinewidth": 0,
              "ticks": ""
             }
            },
            "type": "scatterternary"
           }
          ],
          "surface": [
           {
            "colorbar": {
             "outlinewidth": 0,
             "ticks": ""
            },
            "colorscale": [
             [
              0,
              "#0d0887"
             ],
             [
              0.1111111111111111,
              "#46039f"
             ],
             [
              0.2222222222222222,
              "#7201a8"
             ],
             [
              0.3333333333333333,
              "#9c179e"
             ],
             [
              0.4444444444444444,
              "#bd3786"
             ],
             [
              0.5555555555555556,
              "#d8576b"
             ],
             [
              0.6666666666666666,
              "#ed7953"
             ],
             [
              0.7777777777777778,
              "#fb9f3a"
             ],
             [
              0.8888888888888888,
              "#fdca26"
             ],
             [
              1,
              "#f0f921"
             ]
            ],
            "type": "surface"
           }
          ],
          "table": [
           {
            "cells": {
             "fill": {
              "color": "#EBF0F8"
             },
             "line": {
              "color": "white"
             }
            },
            "header": {
             "fill": {
              "color": "#C8D4E3"
             },
             "line": {
              "color": "white"
             }
            },
            "type": "table"
           }
          ]
         },
         "layout": {
          "annotationdefaults": {
           "arrowcolor": "#2a3f5f",
           "arrowhead": 0,
           "arrowwidth": 1
          },
          "autotypenumbers": "strict",
          "coloraxis": {
           "colorbar": {
            "outlinewidth": 0,
            "ticks": ""
           }
          },
          "colorscale": {
           "diverging": [
            [
             0,
             "#8e0152"
            ],
            [
             0.1,
             "#c51b7d"
            ],
            [
             0.2,
             "#de77ae"
            ],
            [
             0.3,
             "#f1b6da"
            ],
            [
             0.4,
             "#fde0ef"
            ],
            [
             0.5,
             "#f7f7f7"
            ],
            [
             0.6,
             "#e6f5d0"
            ],
            [
             0.7,
             "#b8e186"
            ],
            [
             0.8,
             "#7fbc41"
            ],
            [
             0.9,
             "#4d9221"
            ],
            [
             1,
             "#276419"
            ]
           ],
           "sequential": [
            [
             0,
             "#0d0887"
            ],
            [
             0.1111111111111111,
             "#46039f"
            ],
            [
             0.2222222222222222,
             "#7201a8"
            ],
            [
             0.3333333333333333,
             "#9c179e"
            ],
            [
             0.4444444444444444,
             "#bd3786"
            ],
            [
             0.5555555555555556,
             "#d8576b"
            ],
            [
             0.6666666666666666,
             "#ed7953"
            ],
            [
             0.7777777777777778,
             "#fb9f3a"
            ],
            [
             0.8888888888888888,
             "#fdca26"
            ],
            [
             1,
             "#f0f921"
            ]
           ],
           "sequentialminus": [
            [
             0,
             "#0d0887"
            ],
            [
             0.1111111111111111,
             "#46039f"
            ],
            [
             0.2222222222222222,
             "#7201a8"
            ],
            [
             0.3333333333333333,
             "#9c179e"
            ],
            [
             0.4444444444444444,
             "#bd3786"
            ],
            [
             0.5555555555555556,
             "#d8576b"
            ],
            [
             0.6666666666666666,
             "#ed7953"
            ],
            [
             0.7777777777777778,
             "#fb9f3a"
            ],
            [
             0.8888888888888888,
             "#fdca26"
            ],
            [
             1,
             "#f0f921"
            ]
           ]
          },
          "colorway": [
           "#636efa",
           "#EF553B",
           "#00cc96",
           "#ab63fa",
           "#FFA15A",
           "#19d3f3",
           "#FF6692",
           "#B6E880",
           "#FF97FF",
           "#FECB52"
          ],
          "font": {
           "color": "#2a3f5f"
          },
          "geo": {
           "bgcolor": "white",
           "lakecolor": "white",
           "landcolor": "#E5ECF6",
           "showlakes": true,
           "showland": true,
           "subunitcolor": "white"
          },
          "hoverlabel": {
           "align": "left"
          },
          "hovermode": "closest",
          "mapbox": {
           "style": "light"
          },
          "paper_bgcolor": "white",
          "plot_bgcolor": "#E5ECF6",
          "polar": {
           "angularaxis": {
            "gridcolor": "white",
            "linecolor": "white",
            "ticks": ""
           },
           "bgcolor": "#E5ECF6",
           "radialaxis": {
            "gridcolor": "white",
            "linecolor": "white",
            "ticks": ""
           }
          },
          "scene": {
           "xaxis": {
            "backgroundcolor": "#E5ECF6",
            "gridcolor": "white",
            "gridwidth": 2,
            "linecolor": "white",
            "showbackground": true,
            "ticks": "",
            "zerolinecolor": "white"
           },
           "yaxis": {
            "backgroundcolor": "#E5ECF6",
            "gridcolor": "white",
            "gridwidth": 2,
            "linecolor": "white",
            "showbackground": true,
            "ticks": "",
            "zerolinecolor": "white"
           },
           "zaxis": {
            "backgroundcolor": "#E5ECF6",
            "gridcolor": "white",
            "gridwidth": 2,
            "linecolor": "white",
            "showbackground": true,
            "ticks": "",
            "zerolinecolor": "white"
           }
          },
          "shapedefaults": {
           "line": {
            "color": "#2a3f5f"
           }
          },
          "ternary": {
           "aaxis": {
            "gridcolor": "white",
            "linecolor": "white",
            "ticks": ""
           },
           "baxis": {
            "gridcolor": "white",
            "linecolor": "white",
            "ticks": ""
           },
           "bgcolor": "#E5ECF6",
           "caxis": {
            "gridcolor": "white",
            "linecolor": "white",
            "ticks": ""
           }
          },
          "title": {
           "x": 0.05
          },
          "xaxis": {
           "automargin": true,
           "gridcolor": "white",
           "linecolor": "white",
           "ticks": "",
           "title": {
            "standoff": 15
           },
           "zerolinecolor": "white",
           "zerolinewidth": 2
          },
          "yaxis": {
           "automargin": true,
           "gridcolor": "white",
           "linecolor": "white",
           "ticks": "",
           "title": {
            "standoff": 15
           },
           "zerolinecolor": "white",
           "zerolinewidth": 2
          }
         }
        },
        "title": {
         "text": "Variação das moedas da América do Sul"
        },
        "updatemenus": [
         {
          "buttons": [
           {
            "args": [
             {
              "visible": [
               true,
               false,
               false,
               false,
               false,
               false,
               false,
               false,
               false,
               false,
               false
              ]
             },
             {
              "title": "Variação da moeda ARS"
             }
            ],
            "label": "ARS",
            "method": "update"
           },
           {
            "args": [
             {
              "visible": [
               false,
               true,
               false,
               false,
               false,
               false,
               false,
               false,
               false,
               false,
               false
              ]
             },
             {
              "title": "Variação da moeda BOB"
             }
            ],
            "label": "BOB",
            "method": "update"
           },
           {
            "args": [
             {
              "visible": [
               false,
               false,
               true,
               false,
               false,
               false,
               false,
               false,
               false,
               false,
               false
              ]
             },
             {
              "title": "Variação da moeda BRL"
             }
            ],
            "label": "BRL",
            "method": "update"
           },
           {
            "args": [
             {
              "visible": [
               false,
               false,
               false,
               true,
               false,
               false,
               false,
               false,
               false,
               false,
               false
              ]
             },
             {
              "title": "Variação da moeda CLP"
             }
            ],
            "label": "CLP",
            "method": "update"
           },
           {
            "args": [
             {
              "visible": [
               false,
               false,
               false,
               false,
               true,
               false,
               false,
               false,
               false,
               false,
               false
              ]
             },
             {
              "title": "Variação da moeda COP"
             }
            ],
            "label": "COP",
            "method": "update"
           },
           {
            "args": [
             {
              "visible": [
               false,
               false,
               false,
               false,
               false,
               true,
               false,
               false,
               false,
               false,
               false
              ]
             },
             {
              "title": "Variação da moeda PEN"
             }
            ],
            "label": "PEN",
            "method": "update"
           },
           {
            "args": [
             {
              "visible": [
               false,
               false,
               false,
               false,
               false,
               false,
               true,
               false,
               false,
               false,
               false
              ]
             },
             {
              "title": "Variação da moeda UYU"
             }
            ],
            "label": "UYU",
            "method": "update"
           },
           {
            "args": [
             {
              "visible": [
               false,
               false,
               false,
               false,
               false,
               false,
               false,
               true,
               false,
               false,
               false
              ]
             },
             {
              "title": "Variação da moeda VES"
             }
            ],
            "label": "VES",
            "method": "update"
           },
           {
            "args": [
             {
              "visible": [
               false,
               false,
               false,
               false,
               false,
               false,
               false,
               false,
               true,
               false,
               false
              ]
             },
             {
              "title": "Variação da moeda GYD"
             }
            ],
            "label": "GYD",
            "method": "update"
           },
           {
            "args": [
             {
              "visible": [
               false,
               false,
               false,
               false,
               false,
               false,
               false,
               false,
               false,
               true,
               false
              ]
             },
             {
              "title": "Variação da moeda PYG"
             }
            ],
            "label": "PYG",
            "method": "update"
           },
           {
            "args": [
             {
              "visible": [
               false,
               false,
               false,
               false,
               false,
               false,
               false,
               false,
               false,
               false,
               true
              ]
             },
             {
              "title": "Variação da moeda SRD"
             }
            ],
            "label": "SRD",
            "method": "update"
           }
          ],
          "showactive": true,
          "type": "dropdown",
          "x": 1.15,
          "y": 1
         }
        ],
        "xaxis": {
         "title": {
          "text": "Timestamp"
         }
        },
        "yaxis": {
         "title": {
          "text": "Valor em relação ao USD"
         }
        }
       }
      }
     },
     "metadata": {},
     "output_type": "display_data"
    }
   ],
   "source": [
    "import plotly.graph_objects as go\n",
    "import plotly.io as pio\n",
    "\n",
    "# df_final: DataFrame consolidado, index=timestamp, columns=moedas\n",
    "df_final = df_final.sort_index()  # Garante ordem cronológica\n",
    "\n",
    "# Lista de moedas disponíveis (exceto USD)\n",
    "moedas = [col for col in df_final.columns if col != \"USD\"]\n",
    "\n",
    "# Cria o gráfico sem o USD\n",
    "fig = go.Figure()\n",
    "\n",
    "# Adiciona as moedas como traces, inicialmente invisíveis\n",
    "for moeda in moedas:\n",
    "    fig.add_trace(go.Scatter(\n",
    "        x=df_final.index,\n",
    "        y=df_final[moeda],\n",
    "        mode=\"lines+markers\",\n",
    "        name=moeda,\n",
    "        visible=False\n",
    "    ))\n",
    "\n",
    "# Botões para selecionar moedas\n",
    "buttons = []\n",
    "for i, moeda in enumerate(moedas):\n",
    "    visible = [j == i for j in range(len(moedas))]\n",
    "    buttons.append(dict(\n",
    "        label=moeda,\n",
    "        method=\"update\",\n",
    "        args=[{\"visible\": visible},\n",
    "              {\"title\": f\"Variação da moeda {moeda}\"}]\n",
    "    ))\n",
    "\n",
    "fig.update_layout(\n",
    "    updatemenus=[dict(\n",
    "        type=\"dropdown\",\n",
    "        x=1.15,\n",
    "        y=1,\n",
    "        showactive=True,\n",
    "        buttons=buttons\n",
    "    )],\n",
    "    title=\"Variação das moedas da América do Sul\",\n",
    "    xaxis_title=\"Timestamp\",\n",
    "    yaxis_title=\"Valor em relação ao USD\",\n",
    "    legend_title=\"Moeda\",\n",
    "    height=600\n",
    ")\n",
    "\n",
    "fig.show()"
   ]
  },
  {
   "cell_type": "code",
   "execution_count": null,
   "id": "b2737995",
   "metadata": {},
   "outputs": [
    {
     "name": "stderr",
     "output_type": "stream",
     "text": [
      "/home/adn/.local/lib/python3.10/site-packages/tqdm/auto.py:21: TqdmWarning: IProgress not found. Please update jupyter and ipywidgets. See https://ipywidgets.readthedocs.io/en/stable/user_install.html\n",
      "  from .autonotebook import tqdm as notebook_tqdm\n"
     ]
    },
    {
     "name": "stdout",
     "output_type": "stream",
     "text": [
      "=== Insights gerados pelo Gemini ===\n",
      "Análise do Dataset de Moedas da América do Sul em relação ao Dólar (2025-09-10)\n",
      "\n",
      "O dataset apresenta as taxas de câmbio de diversas moedas sul-americanas em relação ao dólar americano em uma data específica (2025-09-10).  A análise se baseia nos dados fornecidos, limitados a uma única data, o que impede conclusões definitivas sobre tendências a longo prazo.\n",
      "\n",
      "**1. Moedas Mais e Menos Valorizadas:**\n",
      "\n",
      "* **Mais Valorizadas (Menos unidades da moeda local por 1 dólar):**  PEN (Sol Peruano) e BOB (Boliviano) apresentam as menores taxas de câmbio, indicando maior valorização em relação ao dólar.\n",
      "\n",
      "* **Menos Valorizadas (Mais unidades da moeda local por 1 dólar):**  VES (Bolívar Soberano Venezuelano), seguido de ARS (Peso Argentino) e PYG (Guarani Paraguaio) mostram as maiores taxas de câmbio, indicando significativa desvalorização frente ao dólar.\n",
      "\n",
      "**2. Padrões Interessantes:**\n",
      "\n",
      "* **Grande Variabilidade:** Observa-se uma grande dispersão nos valores das taxas de câmbio, refletindo diferentes estágios de desenvolvimento econômico e estabilidade política dos países.\n",
      "\n",
      "* **Ausência de Padrão Claro:** Com apenas uma data de cotação, é impossível identificar padrões de correlação entre as moedas.  Uma análise temporal seria necessária para detectar tendências e relações entre elas.\n",
      "\n",
      "**3. Análises Adicionais:**\n",
      "\n",
      "Para obter insights mais robustos, seriam necessárias as seguintes análises adicionais:\n",
      "\n",
      "* **Série Temporal:**  Dados de cotação diários, semanais ou mensais, ao longo de um período significativo (pelo menos um ano), permitiriam identificar tendências, volatilidade e correlações entre as taxas de câmbio.\n",
      "\n",
      "* **Análise de Regressão:**  A inclusão de variáveis econômicas (inflação, taxas de juros, crescimento do PIB, reservas internacionais, etc.) de cada país permitiria investigar os fatores que influenciam as taxas de câmbio.\n",
      "\n",
      "* **Análise de Cluster:**  Agrupamento das moedas com base em suas similaridades em relação ao comportamento da taxa de câmbio ao longo do tempo.\n",
      "\n",
      "* **Análise de Componentes Principais (PCA):**  Redução da dimensionalidade para identificar os principais fatores que explicam a variação das taxas de câmbio.\n",
      "\n",
      "\n",
      "**4. Dólar x Real (BRL):**\n",
      "\n",
      "A taxa de câmbio do Real em relação ao dólar (BRL/USD = 5.4212) indica uma desvalorização significativa do Real em 2025-09-10.  Comparando com as outras moedas, o Real se encontra em uma posição intermediária, não sendo a mais desvalorizada.\n",
      "\n",
      "\n",
      "**Fatores que influenciam a desvalorização do Real:**\n",
      "\n",
      "Diversos fatores podem influenciar a taxa de câmbio BRL/USD, incluindo:\n",
      "\n",
      "* **Situação Fiscal e Dívida Pública:**  Alta dívida pública e déficits fiscais podem afetar a confiança dos investidores, levando à desvalorização da moeda.\n",
      "\n",
      "* **Inflação:** Uma taxa de inflação elevada em relação a outros países tende a depreciar a moeda nacional.\n",
      "\n",
      "* **Taxas de Juros:**  Taxas de juros altas podem atrair investimentos estrangeiros, valorizando a moeda; taxas baixas tendem a ter o efeito oposto.\n",
      "\n",
      "* **Política Monetária do Banco Central:** As ações do Banco Central para controlar a inflação e as taxas de juros impactam diretamente a taxa de câmbio.\n",
      "\n",
      "* **Cenário Econômico Global:**  Crises econômicas internacionais, choques de oferta (como aumento do preço do petróleo) e a valorização do dólar no mercado internacional também influenciam a taxa de câmbio.\n",
      "\n",
      "* **Incertezas Políticas:** Instabilidade política interna pode gerar desconfiança nos mercados e levar à depreciação da moeda.\n",
      "\n",
      "**Observação:** É crucial analisar os dados macroeconômicos do Brasil em 2025 para determinar a causa principal da desvalorização do real.  O dado isolado não permite concluir qual fator teve maior peso.\n",
      "\n",
      "\n",
      "**5. Eventos Recentes (2025-09-10) que contribuem para a desvalorização do Real:**\n",
      "\n",
      "Sem acesso a informações econômicas e políticas de 2025, é impossível apontar eventos específicos que contribuíram para a desvalorização do Real nessa data.  Seria necessário consultar fontes de notícias e relatórios econômicos da época.  A análise de uma série temporal de taxas de câmbio, acompanhada de informações sobre os eventos econômicos e políticos relevantes, permitiria correlacionar os fatos com a flutuação da taxa de câmbio.\n",
      "\n"
     ]
    }
   ],
   "source": [
    "#Conecta Gemini \n",
    "\n",
    "import google.generativeai as genai\n",
    "\n",
    "genai.configure(api_key=os.environ[\"GOOGLE_API_KEY\"])\n",
    "\n",
    "model = genai.GenerativeModel(\"gemini-1.5-flash\")\n",
    "\n",
    "def gerar_insights_gemini(df, n_linhas=10):\n",
    "    \"\"\"\n",
    "    Gera insights usando Google Gemini Free API\n",
    "    :param df: DataFrame a ser analisado\n",
    "    :param n_linhas: Número de linhas do dataset para enviar ao modelo\n",
    "    \"\"\"\n",
    "    sample = df.head(n_linhas).to_string()\n",
    "    prompt = f\"\"\"\n",
    "    Você é um analista de dados. Analise o seguinte dataset de moedas da América do Sul em relação ao dólar:\n",
    "\n",
    "    {sample}\n",
    "\n",
    "    Gere insights claros e objetivos:\n",
    "    - Quais moedas estão mais valorizadas e mais desvalorizadas?\n",
    "    - Quais padrões interessantes podem ser observados?\n",
    "    - Quais análises adicionais poderiam ser feitas com este dataset?\n",
    "    - O dólar comparado com o valor do Real está alto. O que pode influenciar esse valor? Isso acompanha os valores das outras moedas da america do sul?\n",
    "    - Você pode pontuar eventos mais recentes que contribuem para a desvalorização do real em relação ao Dolar? Considerando que a data da cotação como {timestamp }\n",
    "\n",
    "    \"\"\"\n",
    "\n",
    "    response = model.generate_content(prompt)\n",
    "    return response.text\n",
    "\n",
    "# Exemplo de uso:\n",
    "insights = gerar_insights_gemini(df_south_america)\n",
    "print(\"=== Insights gerados pelo Gemini ===\")\n",
    "print(insights)\n"
   ]
  }
 ],
 "metadata": {
  "kernelspec": {
   "display_name": "Python 3",
   "language": "python",
   "name": "python3"
  },
  "language_info": {
   "codemirror_mode": {
    "name": "ipython",
    "version": 3
   },
   "file_extension": ".py",
   "mimetype": "text/x-python",
   "name": "python",
   "nbconvert_exporter": "python",
   "pygments_lexer": "ipython3",
   "version": "3.10.12"
  }
 },
 "nbformat": 4,
 "nbformat_minor": 5
}
