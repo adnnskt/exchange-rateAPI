{
 "cells": [
  {
   "cell_type": "code",
   "execution_count": null,
   "id": "573f99f2",
   "metadata": {},
   "outputs": [],
   "source": [
    "#%pip install pyarrow\n",
    "#%pip install -q google-generativeai\n",
    "#%pip install python-dotenv\n",
    "#%pip install plotly\n",
    "#%pip install nbformat --upgrade"
   ]
  },
  {
   "cell_type": "code",
   "execution_count": 6,
   "id": "8bcc7e5d",
   "metadata": {},
   "outputs": [],
   "source": [
    "import requests\n",
    "import pandas as pd\n",
    "from dotenv import load_dotenv\n",
    "import os\n",
    "import logging\n",
    "\n",
    "load_dotenv() \n",
    "\n",
    "API_KEY = os.getenv(\"API_KEY\")\n",
    "GOOGLE_API_KEY = os.getenv(\"GOOGLE_API_KEY\")\n"
   ]
  },
  {
   "cell_type": "code",
   "execution_count": null,
   "id": "36d94adf",
   "metadata": {},
   "outputs": [],
   "source": [
    "import logging #Util para criar logs de cordo com as açoes especificas que você definir\n",
    "\n",
    "# Criar um objeto logger com o nome 'api_logger'\n",
    "api_logger = logging.getLogger('api_logger')\n",
    "\n",
    "# Definir o nível de registro como DEBUG. Isso significa que todas as mensagens com nível DEBUG e acima serão registradas\n",
    "api_logger.setLevel(logging.DEBUG)\n",
    "\n",
    "# Criar manipuladores que imprimem mensagens de log no console (saída padrão) e escrevem mensagens de log em um arquivo chamado 'api_logger.log'\n",
    "console_handler = logging.StreamHandler()\n",
    "file_handler = logging.FileHandler('api_logger.log')\n",
    "\n",
    "# Definir um formatador que especifica o formato das mensagens de log\n",
    "formatter = logging.Formatter('%(asctime)s - %(name)s - %(levelname)s - %(message)s')\n",
    "\n",
    "# Definir o formatador para o manipulador do console e para o manipulador de arquivos\n",
    "console_handler.setFormatter(formatter)\n",
    "file_handler.setFormatter(formatter)\n",
    "\n",
    "# Adicionar o manipulador do console ao logger. Isso significa que mensagens de log serão exibidas no console\n",
    "api_logger.addHandler(console_handler)\n",
    "# Adicionar o manipulador de arquivos ao logger. Isso significa que mensagens de log serão escritas no arquivo 'api_logger.log'\n",
    "api_logger.addHandler(file_handler)"
   ]
  },
  {
   "cell_type": "code",
   "execution_count": 18,
   "id": "f6422d2f",
   "metadata": {},
   "outputs": [
    {
     "name": "stderr",
     "output_type": "stream",
     "text": [
      "2025-09-10 21:39:33,400 - api_logger - INFO - Requisição bem-sucedida.\n"
     ]
    }
   ],
   "source": [
    "\n",
    "BASE_URL = f'https://v6.exchangerate-api.com/v6/{API_KEY}'\n",
    "DATA = '2025/08/25' # Substitua pela data que você quiser\n",
    "\n",
    "URL = f'{BASE_URL}/latest/USD'\n",
    "\n",
    "try:\n",
    "    response = requests.get(URL)\n",
    "    response.raise_for_status()  # Isso vai levantar um erro para códigos de status HTTP 4xx/5xx\n",
    "\n",
    "    data = response.json()\n",
    "    #print(data)\n",
    "\n",
    "except requests.exceptions.HTTPError as err:\n",
    "    print(f\"Ocorreu um erro HTTP: {err}\")\n",
    "except Exception as err:\n",
    "    print(f\"Ocorreu um erro: {err}\")\n",
    "\n",
    "api_logger.info(\"Requisição bem-sucedida.\")    "
   ]
  },
  {
   "cell_type": "code",
   "execution_count": null,
   "id": "aa7574cc",
   "metadata": {},
   "outputs": [
    {
     "name": "stderr",
     "output_type": "stream",
     "text": [
      "2025-09-10 21:45:04,551 - api_logger - INFO - Arquivo .json salvo na camada bronze particionado por timestamp 20250910.\n"
     ]
    }
   ],
   "source": [
    "# Salvar o retorno como arquivo JSON na pasta bronze, particionando por timestamp\n",
    "import os\n",
    "from datetime import datetime\n",
    "\n",
    "timestamp = datetime.now().strftime(\"%Y%m%d\")\n",
    "output_dir = f\"bronze/{timestamp}\"\n",
    "os.makedirs(output_dir, exist_ok=True)\n",
    "\n",
    "with open(f\"{output_dir}/retorno_api_{timestamp}.json\", \"w\", encoding=\"utf-8\") as f:\n",
    "    import json\n",
    "    json.dump(data, f, ensure_ascii=False, indent=4)\n",
    "\n",
    "api_logger.info(f\"Arquivo .json salvo na camada /bronze particionado por timestamp {timestamp}.\")    "
   ]
  },
  {
   "cell_type": "code",
   "execution_count": 20,
   "id": "69e8e638",
   "metadata": {},
   "outputs": [
    {
     "name": "stderr",
     "output_type": "stream",
     "text": [
      "2025-09-10 21:45:43,710 - api_logger - INFO - Arquivo .parquet salvo na camada /silver particionado por timestamp 20250910.\n"
     ]
    }
   ],
   "source": [
    "# Ler o JSON salvo e salvar como Parquet na pasta silver\n",
    "import pandas as pd\n",
    "output_dir = f\"bronze/{timestamp}\"\n",
    "\n",
    "with open(f\"{output_dir}/retorno_api_{timestamp}.json\", \"r\", encoding=\"utf-8\") as f:\n",
    "    json_data = json.load(f)\n",
    "\n",
    "# Normaliza o JSON para DataFrame\n",
    "df = pd.json_normalize(json_data['conversion_rates'])\n",
    "\n",
    "silver_dir = f\"silver/{timestamp}\"\n",
    "os.makedirs(silver_dir, exist_ok=True)\n",
    "df.to_parquet(f\"{silver_dir}/retorno_api_{timestamp}.parquet\", index=False)\n",
    "\n",
    "api_logger.info(f\"Arquivo .parquet salvo na camada /silver particionado por timestamp {timestamp}.\")  "
   ]
  },
  {
   "cell_type": "code",
   "execution_count": 21,
   "id": "afbdef17",
   "metadata": {},
   "outputs": [
    {
     "name": "stderr",
     "output_type": "stream",
     "text": [
      "2025-09-10 21:47:12,104 - api_logger - INFO - Criação da lista de moedas sul americanas: ['USD', 'ARS', 'BOB', 'BRL', 'CLP', 'COP', 'PEN', 'UYU', 'VES', 'GYD', 'PYG', 'SRD'].\n"
     ]
    }
   ],
   "source": [
    "#print(f\"O valor do dólar sobre o euro é: {df['EUR'].values[0]}\")\n",
    "\n",
    "# Carregar o DataFrame diretamente do arquivo Parquet salvo na pasta silver\n",
    "silver_dir = f\"silver/{timestamp}\"\n",
    "df = pd.read_parquet(f\"{silver_dir}/retorno_api_{timestamp}.parquet\")\n",
    "\n",
    "# Filtrar e mostrar apenas as moedas da América do Sul\n",
    "south_american_currencies = ['USD', 'ARS', 'BOB', 'BRL', 'CLP', 'COP', 'PEN', 'UYU', 'VES', 'GYD', 'PYG', 'SRD']\n",
    "df_south_america = df[south_american_currencies]\n",
    "# ...restante do código...\n",
    "\n",
    "#salvando o DataFrame filtrado como parquet na pasta gold\n",
    "\n",
    "gold_dir = f\"gold/{timestamp}\"\n",
    "os.makedirs(gold_dir, exist_ok=True)\n",
    "df_south_america.to_parquet(f\"{gold_dir}/south_american_currencies.parquet\", index=False)   \n",
    "\n",
    "api_logger.info(f\"Criação da lista de moedas sul americanas: {south_american_currencies}.\")  "
   ]
  },
  {
   "cell_type": "code",
   "execution_count": 22,
   "id": "7a0eb188",
   "metadata": {},
   "outputs": [
    {
     "name": "stderr",
     "output_type": "stream",
     "text": [
      "2025-09-10 21:48:02,507 - api_logger - INFO - Exibindo dataframe com os resultados de cada partição da camada /gold.\n"
     ]
    },
    {
     "data": {
      "text/html": [
       "<div>\n",
       "<style scoped>\n",
       "    .dataframe tbody tr th:only-of-type {\n",
       "        vertical-align: middle;\n",
       "    }\n",
       "\n",
       "    .dataframe tbody tr th {\n",
       "        vertical-align: top;\n",
       "    }\n",
       "\n",
       "    .dataframe thead th {\n",
       "        text-align: right;\n",
       "    }\n",
       "</style>\n",
       "<table border=\"1\" class=\"dataframe\">\n",
       "  <thead>\n",
       "    <tr style=\"text-align: right;\">\n",
       "      <th></th>\n",
       "      <th>ARS</th>\n",
       "      <th>BOB</th>\n",
       "      <th>BRL</th>\n",
       "      <th>CLP</th>\n",
       "      <th>COP</th>\n",
       "      <th>PEN</th>\n",
       "      <th>UYU</th>\n",
       "      <th>VES</th>\n",
       "      <th>GYD</th>\n",
       "      <th>PYG</th>\n",
       "      <th>SRD</th>\n",
       "      <th>USD</th>\n",
       "    </tr>\n",
       "    <tr>\n",
       "      <th>timestamp</th>\n",
       "      <th></th>\n",
       "      <th></th>\n",
       "      <th></th>\n",
       "      <th></th>\n",
       "      <th></th>\n",
       "      <th></th>\n",
       "      <th></th>\n",
       "      <th></th>\n",
       "      <th></th>\n",
       "      <th></th>\n",
       "      <th></th>\n",
       "      <th></th>\n",
       "    </tr>\n",
       "  </thead>\n",
       "  <tbody>\n",
       "    <tr>\n",
       "      <th>20250904</th>\n",
       "      <td>1360.17</td>\n",
       "      <td>6.9203</td>\n",
       "      <td>5.4534</td>\n",
       "      <td>973.4898</td>\n",
       "      <td>4004.8407</td>\n",
       "      <td>3.5341</td>\n",
       "      <td>40.0037</td>\n",
       "      <td>151.7627</td>\n",
       "      <td>209.0719</td>\n",
       "      <td>7228.9684</td>\n",
       "      <td>38.6265</td>\n",
       "      <td>1</td>\n",
       "    </tr>\n",
       "    <tr>\n",
       "      <th>20250909</th>\n",
       "      <td>1422.17</td>\n",
       "      <td>6.9105</td>\n",
       "      <td>5.4139</td>\n",
       "      <td>965.7960</td>\n",
       "      <td>3964.2089</td>\n",
       "      <td>3.5160</td>\n",
       "      <td>40.0851</td>\n",
       "      <td>154.9825</td>\n",
       "      <td>209.1806</td>\n",
       "      <td>7218.2281</td>\n",
       "      <td>38.9228</td>\n",
       "      <td>1</td>\n",
       "    </tr>\n",
       "    <tr>\n",
       "      <th>20250910</th>\n",
       "      <td>1419.92</td>\n",
       "      <td>6.9303</td>\n",
       "      <td>5.4311</td>\n",
       "      <td>967.9827</td>\n",
       "      <td>3918.2402</td>\n",
       "      <td>3.4911</td>\n",
       "      <td>39.9888</td>\n",
       "      <td>157.7287</td>\n",
       "      <td>208.9181</td>\n",
       "      <td>7156.3980</td>\n",
       "      <td>38.9628</td>\n",
       "      <td>1</td>\n",
       "    </tr>\n",
       "  </tbody>\n",
       "</table>\n",
       "</div>"
      ],
      "text/plain": [
       "               ARS     BOB     BRL       CLP        COP     PEN      UYU  \\\n",
       "timestamp                                                                  \n",
       "20250904   1360.17  6.9203  5.4534  973.4898  4004.8407  3.5341  40.0037   \n",
       "20250909   1422.17  6.9105  5.4139  965.7960  3964.2089  3.5160  40.0851   \n",
       "20250910   1419.92  6.9303  5.4311  967.9827  3918.2402  3.4911  39.9888   \n",
       "\n",
       "                VES       GYD        PYG      SRD  USD  \n",
       "timestamp                                               \n",
       "20250904   151.7627  209.0719  7228.9684  38.6265    1  \n",
       "20250909   154.9825  209.1806  7218.2281  38.9228    1  \n",
       "20250910   157.7287  208.9181  7156.3980  38.9628    1  "
      ]
     },
     "execution_count": 22,
     "metadata": {},
     "output_type": "execute_result"
    }
   ],
   "source": [
    "#Consollidano os resultado para um dataframe final \n",
    "\n",
    "gold_base = \"gold\"\n",
    "consolidated = []\n",
    "\n",
    "for folder in sorted(os.listdir(gold_base)):\n",
    "    folder_path = os.path.join(gold_base, folder)\n",
    "    if os.path.isdir(folder_path):\n",
    "        for file in os.listdir(folder_path):\n",
    "            if file.endswith(\".parquet\"):\n",
    "                df = pd.read_parquet(os.path.join(folder_path, file))\n",
    "                # Se não existe coluna USD, adiciona com valor 1\n",
    "                if \"USD\" not in df.columns:\n",
    "                    df[\"USD\"] = 1\n",
    "                # Adiciona coluna com o nome da pasta (timestamp)\n",
    "                df[\"timestamp\"] = folder\n",
    "                consolidated.append(df)\n",
    "\n",
    "# Junta todos os DataFrames\n",
    "df_consolidated = pd.concat(consolidated, ignore_index=True)\n",
    "\n",
    "# Reorganiza para ter timestamp como linha e moedas como colunas\n",
    "df_final = df_consolidated.set_index(\"timestamp\")\n",
    "\n",
    "# Exibe o DataFrame consolidado\n",
    "api_logger.info(f\"Exibindo dataframe com os resultados de cada partição da camada /gold.\")  \n",
    "df_final"
   ]
  },
  {
   "cell_type": "code",
   "execution_count": 23,
   "id": "00a830ea",
   "metadata": {},
   "outputs": [
    {
     "data": {
      "application/vnd.plotly.v1+json": {
       "config": {
        "plotlyServerURL": "https://plot.ly"
       },
       "data": [
        {
         "mode": "lines+markers",
         "name": "ARS",
         "type": "scatter",
         "visible": false,
         "x": [
          "20250904",
          "20250909",
          "20250910"
         ],
         "y": {
          "bdata": "SOF6FK5AlUBI4XoUrjiWQEjhehSuL5ZA",
          "dtype": "f8"
         }
        },
        {
         "mode": "lines+markers",
         "name": "BOB",
         "type": "scatter",
         "visible": false,
         "x": [
          "20250904",
          "20250909",
          "20250910"
         ],
         "y": {
          "bdata": "AwmKH2OuG0AxCKwcWqQbQA3gLZCguBtA",
          "dtype": "f8"
         }
        },
        {
         "mode": "lines+markers",
         "name": "BRL",
         "type": "scatter",
         "visible": false,
         "x": [
          "20250904",
          "20250909",
          "20250910"
         ],
         "y": {
          "bdata": "jgbwFkjQFUDyQc9m1acVQO84RUdyuRVA",
          "dtype": "f8"
         }
        },
        {
         "mode": "lines+markers",
         "name": "CLP",
         "type": "scatter",
         "visible": false,
         "x": [
          "20250904",
          "20250909",
          "20250910"
         ],
         "y": {
          "bdata": "pSxDHOtrjkDufD81Xi6OQDxO0ZHcP45A",
          "dtype": "f8"
         }
        },
        {
         "mode": "lines+markers",
         "name": "COP",
         "type": "scatter",
         "visible": false,
         "x": [
          "20250904",
          "20250909",
          "20250910"
         ],
         "y": {
          "bdata": "f/s6cK5Jr0BF2PD0aviuQACRfvt6nK5A",
          "dtype": "f8"
         }
        },
        {
         "mode": "lines+markers",
         "name": "PEN",
         "type": "scatter",
         "visible": false,
         "x": [
          "20250904",
          "20250909",
          "20250910"
         ],
         "y": {
          "bdata": "S1mGONZFDEBU46WbxCAMQFmGONbF7QtA",
          "dtype": "f8"
         }
        },
        {
         "mode": "lines+markers",
         "name": "UYU",
         "type": "scatter",
         "visible": false,
         "x": [
          "20250904",
          "20250909",
          "20250910"
         ],
         "y": {
          "bdata": "Y3/ZPXkAREDecYqO5ApEQHQkl/+Q/kNA",
          "dtype": "f8"
         }
        },
        {
         "mode": "lines+markers",
         "name": "VES",
         "type": "scatter",
         "visible": false,
         "x": [
          "20250904",
          "20250909",
          "20250910"
         ],
         "y": {
          "bdata": "GJXUCWj4YkA9CtejcF9jQAyTqYJRt2NA",
          "dtype": "f8"
         }
        },
        {
         "mode": "lines+markers",
         "name": "GYD",
         "type": "scatter",
         "visible": false,
         "x": [
          "20250904",
          "20250909",
          "20250910"
         ],
         "y": {
          "bdata": "o5I6AU0iakALtaZ5xyVqQKVOQBNhHWpA",
          "dtype": "f8"
         }
        },
        {
         "mode": "lines+markers",
         "name": "PYG",
         "type": "scatter",
         "visible": false,
         "x": [
          "20250904",
          "20250909",
          "20250910"
         ],
         "y": {
          "bdata": "cvkP6fc8vEA4+MJkOjK8QM/3U+Nl9LtA",
          "dtype": "f8"
         }
        },
        {
         "mode": "lines+markers",
         "name": "SRD",
         "type": "scatter",
         "visible": false,
         "x": [
          "20250904",
          "20250909",
          "20250910"
         ],
         "y": {
          "bdata": "1XjpJjFQQ0DZX3ZPHnZDQF5LyAc9e0NA",
          "dtype": "f8"
         }
        }
       ],
       "layout": {
        "height": 600,
        "legend": {
         "title": {
          "text": "Moeda"
         }
        },
        "template": {
         "data": {
          "bar": [
           {
            "error_x": {
             "color": "#2a3f5f"
            },
            "error_y": {
             "color": "#2a3f5f"
            },
            "marker": {
             "line": {
              "color": "#E5ECF6",
              "width": 0.5
             },
             "pattern": {
              "fillmode": "overlay",
              "size": 10,
              "solidity": 0.2
             }
            },
            "type": "bar"
           }
          ],
          "barpolar": [
           {
            "marker": {
             "line": {
              "color": "#E5ECF6",
              "width": 0.5
             },
             "pattern": {
              "fillmode": "overlay",
              "size": 10,
              "solidity": 0.2
             }
            },
            "type": "barpolar"
           }
          ],
          "carpet": [
           {
            "aaxis": {
             "endlinecolor": "#2a3f5f",
             "gridcolor": "white",
             "linecolor": "white",
             "minorgridcolor": "white",
             "startlinecolor": "#2a3f5f"
            },
            "baxis": {
             "endlinecolor": "#2a3f5f",
             "gridcolor": "white",
             "linecolor": "white",
             "minorgridcolor": "white",
             "startlinecolor": "#2a3f5f"
            },
            "type": "carpet"
           }
          ],
          "choropleth": [
           {
            "colorbar": {
             "outlinewidth": 0,
             "ticks": ""
            },
            "type": "choropleth"
           }
          ],
          "contour": [
           {
            "colorbar": {
             "outlinewidth": 0,
             "ticks": ""
            },
            "colorscale": [
             [
              0,
              "#0d0887"
             ],
             [
              0.1111111111111111,
              "#46039f"
             ],
             [
              0.2222222222222222,
              "#7201a8"
             ],
             [
              0.3333333333333333,
              "#9c179e"
             ],
             [
              0.4444444444444444,
              "#bd3786"
             ],
             [
              0.5555555555555556,
              "#d8576b"
             ],
             [
              0.6666666666666666,
              "#ed7953"
             ],
             [
              0.7777777777777778,
              "#fb9f3a"
             ],
             [
              0.8888888888888888,
              "#fdca26"
             ],
             [
              1,
              "#f0f921"
             ]
            ],
            "type": "contour"
           }
          ],
          "contourcarpet": [
           {
            "colorbar": {
             "outlinewidth": 0,
             "ticks": ""
            },
            "type": "contourcarpet"
           }
          ],
          "heatmap": [
           {
            "colorbar": {
             "outlinewidth": 0,
             "ticks": ""
            },
            "colorscale": [
             [
              0,
              "#0d0887"
             ],
             [
              0.1111111111111111,
              "#46039f"
             ],
             [
              0.2222222222222222,
              "#7201a8"
             ],
             [
              0.3333333333333333,
              "#9c179e"
             ],
             [
              0.4444444444444444,
              "#bd3786"
             ],
             [
              0.5555555555555556,
              "#d8576b"
             ],
             [
              0.6666666666666666,
              "#ed7953"
             ],
             [
              0.7777777777777778,
              "#fb9f3a"
             ],
             [
              0.8888888888888888,
              "#fdca26"
             ],
             [
              1,
              "#f0f921"
             ]
            ],
            "type": "heatmap"
           }
          ],
          "histogram": [
           {
            "marker": {
             "pattern": {
              "fillmode": "overlay",
              "size": 10,
              "solidity": 0.2
             }
            },
            "type": "histogram"
           }
          ],
          "histogram2d": [
           {
            "colorbar": {
             "outlinewidth": 0,
             "ticks": ""
            },
            "colorscale": [
             [
              0,
              "#0d0887"
             ],
             [
              0.1111111111111111,
              "#46039f"
             ],
             [
              0.2222222222222222,
              "#7201a8"
             ],
             [
              0.3333333333333333,
              "#9c179e"
             ],
             [
              0.4444444444444444,
              "#bd3786"
             ],
             [
              0.5555555555555556,
              "#d8576b"
             ],
             [
              0.6666666666666666,
              "#ed7953"
             ],
             [
              0.7777777777777778,
              "#fb9f3a"
             ],
             [
              0.8888888888888888,
              "#fdca26"
             ],
             [
              1,
              "#f0f921"
             ]
            ],
            "type": "histogram2d"
           }
          ],
          "histogram2dcontour": [
           {
            "colorbar": {
             "outlinewidth": 0,
             "ticks": ""
            },
            "colorscale": [
             [
              0,
              "#0d0887"
             ],
             [
              0.1111111111111111,
              "#46039f"
             ],
             [
              0.2222222222222222,
              "#7201a8"
             ],
             [
              0.3333333333333333,
              "#9c179e"
             ],
             [
              0.4444444444444444,
              "#bd3786"
             ],
             [
              0.5555555555555556,
              "#d8576b"
             ],
             [
              0.6666666666666666,
              "#ed7953"
             ],
             [
              0.7777777777777778,
              "#fb9f3a"
             ],
             [
              0.8888888888888888,
              "#fdca26"
             ],
             [
              1,
              "#f0f921"
             ]
            ],
            "type": "histogram2dcontour"
           }
          ],
          "mesh3d": [
           {
            "colorbar": {
             "outlinewidth": 0,
             "ticks": ""
            },
            "type": "mesh3d"
           }
          ],
          "parcoords": [
           {
            "line": {
             "colorbar": {
              "outlinewidth": 0,
              "ticks": ""
             }
            },
            "type": "parcoords"
           }
          ],
          "pie": [
           {
            "automargin": true,
            "type": "pie"
           }
          ],
          "scatter": [
           {
            "fillpattern": {
             "fillmode": "overlay",
             "size": 10,
             "solidity": 0.2
            },
            "type": "scatter"
           }
          ],
          "scatter3d": [
           {
            "line": {
             "colorbar": {
              "outlinewidth": 0,
              "ticks": ""
             }
            },
            "marker": {
             "colorbar": {
              "outlinewidth": 0,
              "ticks": ""
             }
            },
            "type": "scatter3d"
           }
          ],
          "scattercarpet": [
           {
            "marker": {
             "colorbar": {
              "outlinewidth": 0,
              "ticks": ""
             }
            },
            "type": "scattercarpet"
           }
          ],
          "scattergeo": [
           {
            "marker": {
             "colorbar": {
              "outlinewidth": 0,
              "ticks": ""
             }
            },
            "type": "scattergeo"
           }
          ],
          "scattergl": [
           {
            "marker": {
             "colorbar": {
              "outlinewidth": 0,
              "ticks": ""
             }
            },
            "type": "scattergl"
           }
          ],
          "scattermap": [
           {
            "marker": {
             "colorbar": {
              "outlinewidth": 0,
              "ticks": ""
             }
            },
            "type": "scattermap"
           }
          ],
          "scattermapbox": [
           {
            "marker": {
             "colorbar": {
              "outlinewidth": 0,
              "ticks": ""
             }
            },
            "type": "scattermapbox"
           }
          ],
          "scatterpolar": [
           {
            "marker": {
             "colorbar": {
              "outlinewidth": 0,
              "ticks": ""
             }
            },
            "type": "scatterpolar"
           }
          ],
          "scatterpolargl": [
           {
            "marker": {
             "colorbar": {
              "outlinewidth": 0,
              "ticks": ""
             }
            },
            "type": "scatterpolargl"
           }
          ],
          "scatterternary": [
           {
            "marker": {
             "colorbar": {
              "outlinewidth": 0,
              "ticks": ""
             }
            },
            "type": "scatterternary"
           }
          ],
          "surface": [
           {
            "colorbar": {
             "outlinewidth": 0,
             "ticks": ""
            },
            "colorscale": [
             [
              0,
              "#0d0887"
             ],
             [
              0.1111111111111111,
              "#46039f"
             ],
             [
              0.2222222222222222,
              "#7201a8"
             ],
             [
              0.3333333333333333,
              "#9c179e"
             ],
             [
              0.4444444444444444,
              "#bd3786"
             ],
             [
              0.5555555555555556,
              "#d8576b"
             ],
             [
              0.6666666666666666,
              "#ed7953"
             ],
             [
              0.7777777777777778,
              "#fb9f3a"
             ],
             [
              0.8888888888888888,
              "#fdca26"
             ],
             [
              1,
              "#f0f921"
             ]
            ],
            "type": "surface"
           }
          ],
          "table": [
           {
            "cells": {
             "fill": {
              "color": "#EBF0F8"
             },
             "line": {
              "color": "white"
             }
            },
            "header": {
             "fill": {
              "color": "#C8D4E3"
             },
             "line": {
              "color": "white"
             }
            },
            "type": "table"
           }
          ]
         },
         "layout": {
          "annotationdefaults": {
           "arrowcolor": "#2a3f5f",
           "arrowhead": 0,
           "arrowwidth": 1
          },
          "autotypenumbers": "strict",
          "coloraxis": {
           "colorbar": {
            "outlinewidth": 0,
            "ticks": ""
           }
          },
          "colorscale": {
           "diverging": [
            [
             0,
             "#8e0152"
            ],
            [
             0.1,
             "#c51b7d"
            ],
            [
             0.2,
             "#de77ae"
            ],
            [
             0.3,
             "#f1b6da"
            ],
            [
             0.4,
             "#fde0ef"
            ],
            [
             0.5,
             "#f7f7f7"
            ],
            [
             0.6,
             "#e6f5d0"
            ],
            [
             0.7,
             "#b8e186"
            ],
            [
             0.8,
             "#7fbc41"
            ],
            [
             0.9,
             "#4d9221"
            ],
            [
             1,
             "#276419"
            ]
           ],
           "sequential": [
            [
             0,
             "#0d0887"
            ],
            [
             0.1111111111111111,
             "#46039f"
            ],
            [
             0.2222222222222222,
             "#7201a8"
            ],
            [
             0.3333333333333333,
             "#9c179e"
            ],
            [
             0.4444444444444444,
             "#bd3786"
            ],
            [
             0.5555555555555556,
             "#d8576b"
            ],
            [
             0.6666666666666666,
             "#ed7953"
            ],
            [
             0.7777777777777778,
             "#fb9f3a"
            ],
            [
             0.8888888888888888,
             "#fdca26"
            ],
            [
             1,
             "#f0f921"
            ]
           ],
           "sequentialminus": [
            [
             0,
             "#0d0887"
            ],
            [
             0.1111111111111111,
             "#46039f"
            ],
            [
             0.2222222222222222,
             "#7201a8"
            ],
            [
             0.3333333333333333,
             "#9c179e"
            ],
            [
             0.4444444444444444,
             "#bd3786"
            ],
            [
             0.5555555555555556,
             "#d8576b"
            ],
            [
             0.6666666666666666,
             "#ed7953"
            ],
            [
             0.7777777777777778,
             "#fb9f3a"
            ],
            [
             0.8888888888888888,
             "#fdca26"
            ],
            [
             1,
             "#f0f921"
            ]
           ]
          },
          "colorway": [
           "#636efa",
           "#EF553B",
           "#00cc96",
           "#ab63fa",
           "#FFA15A",
           "#19d3f3",
           "#FF6692",
           "#B6E880",
           "#FF97FF",
           "#FECB52"
          ],
          "font": {
           "color": "#2a3f5f"
          },
          "geo": {
           "bgcolor": "white",
           "lakecolor": "white",
           "landcolor": "#E5ECF6",
           "showlakes": true,
           "showland": true,
           "subunitcolor": "white"
          },
          "hoverlabel": {
           "align": "left"
          },
          "hovermode": "closest",
          "mapbox": {
           "style": "light"
          },
          "paper_bgcolor": "white",
          "plot_bgcolor": "#E5ECF6",
          "polar": {
           "angularaxis": {
            "gridcolor": "white",
            "linecolor": "white",
            "ticks": ""
           },
           "bgcolor": "#E5ECF6",
           "radialaxis": {
            "gridcolor": "white",
            "linecolor": "white",
            "ticks": ""
           }
          },
          "scene": {
           "xaxis": {
            "backgroundcolor": "#E5ECF6",
            "gridcolor": "white",
            "gridwidth": 2,
            "linecolor": "white",
            "showbackground": true,
            "ticks": "",
            "zerolinecolor": "white"
           },
           "yaxis": {
            "backgroundcolor": "#E5ECF6",
            "gridcolor": "white",
            "gridwidth": 2,
            "linecolor": "white",
            "showbackground": true,
            "ticks": "",
            "zerolinecolor": "white"
           },
           "zaxis": {
            "backgroundcolor": "#E5ECF6",
            "gridcolor": "white",
            "gridwidth": 2,
            "linecolor": "white",
            "showbackground": true,
            "ticks": "",
            "zerolinecolor": "white"
           }
          },
          "shapedefaults": {
           "line": {
            "color": "#2a3f5f"
           }
          },
          "ternary": {
           "aaxis": {
            "gridcolor": "white",
            "linecolor": "white",
            "ticks": ""
           },
           "baxis": {
            "gridcolor": "white",
            "linecolor": "white",
            "ticks": ""
           },
           "bgcolor": "#E5ECF6",
           "caxis": {
            "gridcolor": "white",
            "linecolor": "white",
            "ticks": ""
           }
          },
          "title": {
           "x": 0.05
          },
          "xaxis": {
           "automargin": true,
           "gridcolor": "white",
           "linecolor": "white",
           "ticks": "",
           "title": {
            "standoff": 15
           },
           "zerolinecolor": "white",
           "zerolinewidth": 2
          },
          "yaxis": {
           "automargin": true,
           "gridcolor": "white",
           "linecolor": "white",
           "ticks": "",
           "title": {
            "standoff": 15
           },
           "zerolinecolor": "white",
           "zerolinewidth": 2
          }
         }
        },
        "title": {
         "text": "Variação das moedas da América do Sul"
        },
        "updatemenus": [
         {
          "buttons": [
           {
            "args": [
             {
              "visible": [
               true,
               false,
               false,
               false,
               false,
               false,
               false,
               false,
               false,
               false,
               false
              ]
             },
             {
              "title": "Variação da moeda ARS"
             }
            ],
            "label": "ARS",
            "method": "update"
           },
           {
            "args": [
             {
              "visible": [
               false,
               true,
               false,
               false,
               false,
               false,
               false,
               false,
               false,
               false,
               false
              ]
             },
             {
              "title": "Variação da moeda BOB"
             }
            ],
            "label": "BOB",
            "method": "update"
           },
           {
            "args": [
             {
              "visible": [
               false,
               false,
               true,
               false,
               false,
               false,
               false,
               false,
               false,
               false,
               false
              ]
             },
             {
              "title": "Variação da moeda BRL"
             }
            ],
            "label": "BRL",
            "method": "update"
           },
           {
            "args": [
             {
              "visible": [
               false,
               false,
               false,
               true,
               false,
               false,
               false,
               false,
               false,
               false,
               false
              ]
             },
             {
              "title": "Variação da moeda CLP"
             }
            ],
            "label": "CLP",
            "method": "update"
           },
           {
            "args": [
             {
              "visible": [
               false,
               false,
               false,
               false,
               true,
               false,
               false,
               false,
               false,
               false,
               false
              ]
             },
             {
              "title": "Variação da moeda COP"
             }
            ],
            "label": "COP",
            "method": "update"
           },
           {
            "args": [
             {
              "visible": [
               false,
               false,
               false,
               false,
               false,
               true,
               false,
               false,
               false,
               false,
               false
              ]
             },
             {
              "title": "Variação da moeda PEN"
             }
            ],
            "label": "PEN",
            "method": "update"
           },
           {
            "args": [
             {
              "visible": [
               false,
               false,
               false,
               false,
               false,
               false,
               true,
               false,
               false,
               false,
               false
              ]
             },
             {
              "title": "Variação da moeda UYU"
             }
            ],
            "label": "UYU",
            "method": "update"
           },
           {
            "args": [
             {
              "visible": [
               false,
               false,
               false,
               false,
               false,
               false,
               false,
               true,
               false,
               false,
               false
              ]
             },
             {
              "title": "Variação da moeda VES"
             }
            ],
            "label": "VES",
            "method": "update"
           },
           {
            "args": [
             {
              "visible": [
               false,
               false,
               false,
               false,
               false,
               false,
               false,
               false,
               true,
               false,
               false
              ]
             },
             {
              "title": "Variação da moeda GYD"
             }
            ],
            "label": "GYD",
            "method": "update"
           },
           {
            "args": [
             {
              "visible": [
               false,
               false,
               false,
               false,
               false,
               false,
               false,
               false,
               false,
               true,
               false
              ]
             },
             {
              "title": "Variação da moeda PYG"
             }
            ],
            "label": "PYG",
            "method": "update"
           },
           {
            "args": [
             {
              "visible": [
               false,
               false,
               false,
               false,
               false,
               false,
               false,
               false,
               false,
               false,
               true
              ]
             },
             {
              "title": "Variação da moeda SRD"
             }
            ],
            "label": "SRD",
            "method": "update"
           }
          ],
          "showactive": true,
          "type": "dropdown",
          "x": 1.15,
          "y": 1
         }
        ],
        "xaxis": {
         "title": {
          "text": "Timestamp"
         }
        },
        "yaxis": {
         "title": {
          "text": "Valor em relação ao USD"
         }
        }
       }
      }
     },
     "metadata": {},
     "output_type": "display_data"
    }
   ],
   "source": [
    "import plotly.graph_objects as go\n",
    "import plotly.io as pio\n",
    "\n",
    "# df_final: DataFrame consolidado, index=timestamp, columns=moedas\n",
    "df_final = df_final.sort_index()  # Garante ordem cronológica\n",
    "\n",
    "# Lista de moedas disponíveis (exceto USD)\n",
    "moedas = [col for col in df_final.columns if col != \"USD\"]\n",
    "\n",
    "# Cria o gráfico sem o USD\n",
    "fig = go.Figure()\n",
    "\n",
    "# Adiciona as moedas como traces, inicialmente invisíveis\n",
    "for moeda in moedas:\n",
    "    fig.add_trace(go.Scatter(\n",
    "        x=df_final.index,\n",
    "        y=df_final[moeda],\n",
    "        mode=\"lines+markers\",\n",
    "        name=moeda,\n",
    "        visible=False\n",
    "    ))\n",
    "\n",
    "# Botões para selecionar moedas\n",
    "buttons = []\n",
    "for i, moeda in enumerate(moedas):\n",
    "    visible = [j == i for j in range(len(moedas))]\n",
    "    buttons.append(dict(\n",
    "        label=moeda,\n",
    "        method=\"update\",\n",
    "        args=[{\"visible\": visible},\n",
    "              {\"title\": f\"Variação da moeda {moeda}\"}]\n",
    "    ))\n",
    "\n",
    "fig.update_layout(\n",
    "    updatemenus=[dict(\n",
    "        type=\"dropdown\",\n",
    "        x=1.15,\n",
    "        y=1,\n",
    "        showactive=True,\n",
    "        buttons=buttons\n",
    "    )],\n",
    "    title=\"Variação das moedas da América do Sul\",\n",
    "    xaxis_title=\"Timestamp\",\n",
    "    yaxis_title=\"Valor em relação ao USD\",\n",
    "    legend_title=\"Moeda\",\n",
    "    height=600\n",
    ")\n",
    "\n",
    "fig.show()"
   ]
  },
  {
   "cell_type": "code",
   "execution_count": 24,
   "id": "b2737995",
   "metadata": {},
   "outputs": [
    {
     "name": "stderr",
     "output_type": "stream",
     "text": [
      "2025-09-10 21:49:47,964 - api_logger - INFO - Exibindo retorno dos insights do LLM Google gemini.\n"
     ]
    },
    {
     "name": "stdout",
     "output_type": "stream",
     "text": [
      "=== Insights gerados pelo Gemini ===\n",
      "Análise do Dataset de Moedas da América do Sul em Relação ao Dólar (2025-09-10 - Data Assumida)\n",
      "\n",
      "O dataset apresentado mostra a taxa de câmbio de várias moedas sul-americanas em relação ao dólar americano (USD) em um único ponto no tempo (assumindo 2025-09-10, já que a data não foi especificada).  A análise se limita a essa única observação, impossibilitando a identificação de tendências ao longo do tempo.\n",
      "\n",
      "**Insights:**\n",
      "\n",
      "* **Moedas mais e menos valorizadas:**  Considerando 1 USD como referência, a moeda mais valorizada é o PEN (Sol Peruano) com aproximadamente 3.49 SOL por 1 USD, enquanto a menos valorizada é o VES (Bolívar Venezuelano) com 157.73 VES por 1 USD.  O ARS (Peso Argentino) também apresenta uma taxa de câmbio muito desvalorizada.\n",
      "\n",
      "* **Padrões interessantes:** A observação de um único dia dificulta a identificação de padrões. Para observar padrões, uma série temporal de dados seria necessária.  No entanto, a grande diferença entre as taxas de câmbio indica variações significativas na estabilidade econômica dos países da região.\n",
      "\n",
      "* **Análises adicionais:** Para uma análise mais robusta, seriam necessárias as seguintes informações:\n",
      "\n",
      "    * **Série temporal:** Dados diários, semanais ou mensais de taxas de câmbio para identificar tendências e volatilidade.\n",
      "    * **Dados macroeconômicos:**  Inflação, taxas de juros, crescimento econômico, reservas internacionais de cada país.  Isso permitiria correlacionar as taxas de câmbio com fatores econômicos.\n",
      "    * **Dados políticos:** Eventos políticos relevantes podem impactar significativamente as taxas de câmbio.\n",
      "    * **Comparação com outras moedas:** Comparar as taxas de câmbio com outras moedas de referência globais (Euro, Iene, Libra) para ter uma perspectiva mais ampla.\n",
      "\n",
      "* **Dólar vs. Real:** O dataset mostra que 1 USD equivale a aproximadamente 5.43 BRL.  Se isso é \"alto\" ou \"baixo\" depende do contexto histórico e das expectativas.  Para determinar se este valor está fora do comum, uma análise de dados históricos é fundamental.  A cotação do Real em relação ao dólar é influenciada por diversos fatores, incluindo:\n",
      "\n",
      "    * **Diferencial de taxas de juros:** Taxas de juros brasileiras em relação às americanas.\n",
      "    * **Balança comercial:** Exportações e importações do Brasil.\n",
      "    * **Incertezas políticas e econômicas:**  Instabilidade política e econômica no Brasil afeta a confiança dos investidores.\n",
      "    * **Fluxo de capitais:** Investimentos estrangeiros no Brasil.\n",
      "    * **Preço das commodities:** O Brasil é um grande exportador de commodities, portanto, os preços internacionais influenciam diretamente o Real.\n",
      "\n",
      "\n",
      "* **Eventos recentes que contribuem para a desvalorização do Real (considerando 2025-09-10):** Sem acesso a informações contextuais de 2025, é impossível apontar eventos específicos. No entanto, fatores hipotéticos que *poderiam* contribuir para uma desvalorização do Real em relação ao dólar em 2025 incluem:  crise política, aumento significativo da inflação, queda nas exportações, aumento da dívida pública, ou uma combinação desses fatores.  É importante consultar notícias econômicas e relatórios financeiros de 2025 para uma análise precisa.\n",
      "\n",
      "\n",
      "**Conclusão:**\n",
      "\n",
      "A análise deste dataset é limitada pela ausência de dados históricos e informações contextuais.  Uma análise completa e significativa requer dados temporais e macroeconômicos para entender as dinâmicas de taxas de câmbio na América do Sul. A afirmação sobre o real ser alto ou baixo em relação ao dólar somente pode ser respondida com uma análise histórica que contextualize o dado de 5.43 BRL/USD.\n",
      "\n"
     ]
    }
   ],
   "source": [
    "#Conecta Gemini \n",
    "\n",
    "import google.generativeai as genai\n",
    "\n",
    "genai.configure(api_key=os.environ[\"GOOGLE_API_KEY\"])\n",
    "\n",
    "model = genai.GenerativeModel(\"gemini-1.5-flash\")\n",
    "\n",
    "def gerar_insights_gemini(df, n_linhas=10):\n",
    "    \"\"\"\n",
    "    Gera insights usando Google Gemini Free API\n",
    "    :param df: DataFrame a ser analisado\n",
    "    :param n_linhas: Número de linhas do dataset para enviar ao modelo\n",
    "    \"\"\"\n",
    "    sample = df.head(n_linhas).to_string()\n",
    "    prompt = f\"\"\"\n",
    "    Você é um analista de dados. Analise o seguinte dataset de moedas da América do Sul em relação ao dólar:\n",
    "\n",
    "    {sample}\n",
    "\n",
    "    Gere insights claros e objetivos:\n",
    "    - Quais moedas estão mais valorizadas e mais desvalorizadas?\n",
    "    - Quais padrões interessantes podem ser observados?\n",
    "    - Quais análises adicionais poderiam ser feitas com este dataset?\n",
    "    - O dólar comparado com o valor do Real está alto. O que pode influenciar esse valor? Isso acompanha os valores das outras moedas da america do sul?\n",
    "    - Você pode pontuar eventos mais recentes que contribuem para a desvalorização do real em relação ao Dolar? Considerando que a data da cotação como {timestamp }\n",
    "\n",
    "    \"\"\"\n",
    "\n",
    "    response = model.generate_content(prompt)\n",
    "    return response.text\n",
    "\n",
    "# Exemplo de uso:\n",
    "insights = gerar_insights_gemini(df_south_america)\n",
    "print(\"=== Insights gerados pelo Gemini ===\")\n",
    "api_logger.info(f\"Exibindo retorno dos insights do LLM Google gemini.\")  \n",
    "print(insights)\n"
   ]
  }
 ],
 "metadata": {
  "kernelspec": {
   "display_name": "Python 3",
   "language": "python",
   "name": "python3"
  },
  "language_info": {
   "codemirror_mode": {
    "name": "ipython",
    "version": 3
   },
   "file_extension": ".py",
   "mimetype": "text/x-python",
   "name": "python",
   "nbconvert_exporter": "python",
   "pygments_lexer": "ipython3",
   "version": "3.10.12"
  }
 },
 "nbformat": 4,
 "nbformat_minor": 5
}
