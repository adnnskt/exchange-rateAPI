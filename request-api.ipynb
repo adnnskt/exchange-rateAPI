{
 "cells": [
  {
   "cell_type": "code",
   "execution_count": null,
   "id": "8bcc7e5d",
   "metadata": {},
   "outputs": [],
   "source": [
    "import requests\n",
    "import pandas as pd"
   ]
  },
  {
   "cell_type": "code",
   "execution_count": null,
   "id": "f6422d2f",
   "metadata": {},
   "outputs": [],
   "source": [
    "\n",
    "\n",
    "API_KEY = 'c1c0056fd76ba53c273ab417'\n",
    "BASE_URL = f'https://v6.exchangerate-api.com/v6/{API_KEY}'\n",
    "DATA = '2025/08/25' # Substitua pela data que você quiser\n",
    "\n",
    "URL = f'{BASE_URL}/latest/USD'\n",
    "\n",
    "try:\n",
    "    response = requests.get(URL)\n",
    "    response.raise_for_status()  # Isso vai levantar um erro para códigos de status HTTP 4xx/5xx\n",
    "\n",
    "    data = response.json()\n",
    "    print(data)\n",
    "\n",
    "except requests.exceptions.HTTPError as err:\n",
    "    print(f\"Ocorreu um erro HTTP: {err}\")\n",
    "except Exception as err:\n",
    "    print(f\"Ocorreu um erro: {err}\")"
   ]
  }
 ],
 "metadata": {
  "kernelspec": {
   "display_name": "Python 3",
   "language": "python",
   "name": "python3"
  },
  "language_info": {
   "codemirror_mode": {
    "name": "ipython",
    "version": 3
   },
   "file_extension": ".py",
   "mimetype": "text/x-python",
   "name": "python",
   "nbconvert_exporter": "python",
   "pygments_lexer": "ipython3",
   "version": "3.10.12"
  }
 },
 "nbformat": 4,
 "nbformat_minor": 5
}
