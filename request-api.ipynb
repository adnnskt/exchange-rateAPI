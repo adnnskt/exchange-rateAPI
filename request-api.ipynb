{
 "cells": [
  {
   "cell_type": "code",
   "execution_count": 2,
   "id": "8bcc7e5d",
   "metadata": {},
   "outputs": [],
   "source": [
    "import requests\n",
    "import pandas as pd"
   ]
  },
  {
   "cell_type": "code",
   "execution_count": 6,
   "id": "f6422d2f",
   "metadata": {},
   "outputs": [
    {
     "name": "stdout",
     "output_type": "stream",
     "text": [
      "{'result': 'success', 'documentation': 'https://www.exchangerate-api.com/docs', 'terms_of_use': 'https://www.exchangerate-api.com/terms', 'time_last_update_unix': 1756425601, 'time_last_update_utc': 'Fri, 29 Aug 2025 00:00:01 +0000', 'time_next_update_unix': 1756512001, 'time_next_update_utc': 'Sat, 30 Aug 2025 00:00:01 +0000', 'base_code': 'USD', 'conversion_rates': {'USD': 1, 'AED': 3.6725, 'AFN': 68.4497, 'ALL': 83.6995, 'AMD': 382.3618, 'ANG': 1.79, 'AOA': 919.6742, 'ARS': 1343.67, 'AUD': 1.5318, 'AWG': 1.79, 'AZN': 1.6982, 'BAM': 1.6749, 'BBD': 2.0, 'BDT': 121.6048, 'BGN': 1.6749, 'BHD': 0.376, 'BIF': 2974.6274, 'BMD': 1.0, 'BND': 1.2832, 'BOB': 6.9147, 'BRL': 5.4131, 'BSD': 1.0, 'BTN': 87.6325, 'BWP': 13.7314, 'BYN': 3.331, 'BZD': 2.0, 'CAD': 1.3754, 'CDF': 2889.2495, 'CHF': 0.8017, 'CLP': 967.824, 'CNY': 7.1303, 'COP': 4025.7212, 'CRC': 503.6328, 'CUP': 24.0, 'CVE': 94.4283, 'CZK': 21.0177, 'DJF': 177.721, 'DKK': 6.3892, 'DOP': 62.898, 'DZD': 129.7828, 'EGP': 48.6107, 'ERN': 15.0, 'ETB': 140.9743, 'EUR': 0.8563, 'FJD': 2.2599, 'FKP': 0.7401, 'FOK': 6.3899, 'GBP': 0.7401, 'GEL': 2.6951, 'GGP': 0.7401, 'GHS': 11.5266, 'GIP': 0.7401, 'GMD': 72.8905, 'GNF': 8685.9204, 'GTQ': 7.6569, 'GYD': 209.0732, 'HKD': 7.7942, 'HNL': 26.2041, 'HRK': 6.4524, 'HTG': 130.8066, 'HUF': 339.8784, 'IDR': 16351.2306, 'ILS': 3.3285, 'IMP': 0.7401, 'INR': 87.6276, 'IQD': 1309.8721, 'IRR': 42510.1386, 'ISK': 122.5989, 'JEP': 0.7401, 'JMD': 159.8148, 'JOD': 0.709, 'JPY': 146.9841, 'KES': 129.052, 'KGS': 87.284, 'KHR': 4011.9968, 'KID': 1.5318, 'KMF': 421.3095, 'KRW': 1385.6313, 'KWD': 0.3054, 'KYD': 0.8333, 'KZT': 537.342, 'LAK': 21696.8044, 'LBP': 89500.0, 'LKR': 301.9727, 'LRD': 200.6196, 'LSL': 17.6826, 'LYD': 5.4251, 'MAD': 9.0238, 'MDL': 16.5951, 'MGA': 4456.8311, 'MKD': 53.0228, 'MMK': 2098.786, 'MNT': 3562.1468, 'MOP': 8.0279, 'MRU': 40.1046, 'MUR': 46.0921, 'MVR': 15.4262, 'MWK': 1741.3367, 'MXN': 18.6539, 'MYR': 4.2178, 'MZN': 63.6914, 'NAD': 17.6826, 'NGN': 1533.6229, 'NIO': 36.7588, 'NOK': 10.0686, 'NPR': 140.212, 'NZD': 1.7004, 'OMR': 0.3845, 'PAB': 1.0, 'PEN': 3.5451, 'PGK': 4.2099, 'PHP': 56.9769, 'PKR': 283.5105, 'PLN': 3.6542, 'PYG': 7235.9737, 'QAR': 3.64, 'RON': 4.3429, 'RSD': 100.4763, 'RUB': 80.3319, 'RWF': 1448.4002, 'SAR': 3.75, 'SBD': 8.2409, 'SCR': 14.784, 'SDG': 511.2973, 'SEK': 9.4825, 'SGD': 1.2831, 'SHP': 0.7401, 'SLE': 23.3272, 'SLL': 23327.2046, 'SOS': 571.4847, 'SRD': 37.6056, 'SSP': 4640.4478, 'STN': 20.9812, 'SYP': 12902.5024, 'SZL': 17.6826, 'THB': 32.2984, 'TJS': 9.5024, 'TMT': 3.4987, 'TND': 2.8892, 'TOP': 2.3597, 'TRY': 41.1162, 'TTD': 6.7646, 'TVD': 1.5318, 'TWD': 30.4618, 'TZS': 2497.0242, 'UAH': 41.2498, 'UGX': 3535.5946, 'UYU': 39.9634, 'UZS': 12365.2106, 'VES': 147.0825, 'VND': 26244.0671, 'VUV': 120.1164, 'WST': 2.6906, 'XAF': 561.746, 'XCD': 2.7, 'XCG': 1.79, 'XDR': 0.7313, 'XOF': 561.746, 'XPF': 102.1931, 'YER': 239.8228, 'ZAR': 17.6823, 'ZMW': 23.4652, 'ZWL': 26.7498}}\n"
     ]
    }
   ],
   "source": [
    "API_KEY = 'c1c0056fd76ba53c273ab417'\n",
    "BASE_URL = f'https://v6.exchangerate-api.com/v6/{API_KEY}'\n",
    "DATA = '2025/08/25' # Substitua pela data que você quiser\n",
    "\n",
    "URL = f'{BASE_URL}/latest/USD'\n",
    "\n",
    "try:\n",
    "    response = requests.get(URL)\n",
    "    response.raise_for_status()  # Isso vai levantar um erro para códigos de status HTTP 4xx/5xx\n",
    "\n",
    "    data = response.json()\n",
    "    print(data)\n",
    "\n",
    "except requests.exceptions.HTTPError as err:\n",
    "    print(f\"Ocorreu um erro HTTP: {err}\")\n",
    "except Exception as err:\n",
    "    print(f\"Ocorreu um erro: {err}\")"
   ]
  },
  {
   "cell_type": "code",
   "execution_count": 6,
   "id": "aa7574cc",
   "metadata": {},
   "outputs": [],
   "source": [
    "# Salvar o retorno como arquivo JSON na pasta bronze\n",
    "import os\n",
    "os.makedirs(\"bronze\", exist_ok=True)\n",
    "with open(\"bronze/retorno_api.json\", \"w\", encoding=\"utf-8\") as f:\n",
    "    import json\n",
    "    json.dump(data, f, ensure_ascii=False, indent=4)"
   ]
  }
 ],
 "metadata": {
  "kernelspec": {
   "display_name": "Python 3",
   "language": "python",
   "name": "python3"
  },
  "language_info": {
   "codemirror_mode": {
    "name": "ipython",
    "version": 3
   },
   "file_extension": ".py",
   "mimetype": "text/x-python",
   "name": "python",
   "nbconvert_exporter": "python",
   "pygments_lexer": "ipython3",
   "version": "3.10.12"
  }
 },
 "nbformat": 4,
 "nbformat_minor": 5
}
